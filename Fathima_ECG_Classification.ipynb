{
 "cells": [
  {
   "cell_type": "code",
   "execution_count": 1,
   "id": "464ee72a-190f-4e2f-9925-dc31c5c41b68",
   "metadata": {},
   "outputs": [],
   "source": [
    "import numpy as np \n",
    "import pandas as pd \n",
    "import seaborn as sns \n",
    "import matplotlib.pyplot as plt \n"
   ]
  },
  {
   "cell_type": "code",
   "execution_count": 5,
   "id": "73e102c1-bcbe-43f2-8bfd-ee574f53df76",
   "metadata": {},
   "outputs": [
    {
     "data": {
      "text/html": [
       "<div>\n",
       "<style scoped>\n",
       "    .dataframe tbody tr th:only-of-type {\n",
       "        vertical-align: middle;\n",
       "    }\n",
       "\n",
       "    .dataframe tbody tr th {\n",
       "        vertical-align: top;\n",
       "    }\n",
       "\n",
       "    .dataframe thead th {\n",
       "        text-align: right;\n",
       "    }\n",
       "</style>\n",
       "<table border=\"1\" class=\"dataframe\">\n",
       "  <thead>\n",
       "    <tr style=\"text-align: right;\">\n",
       "      <th></th>\n",
       "      <th>0</th>\n",
       "      <th>1</th>\n",
       "      <th>2</th>\n",
       "      <th>3</th>\n",
       "      <th>4</th>\n",
       "      <th>5</th>\n",
       "      <th>6</th>\n",
       "      <th>7</th>\n",
       "      <th>8</th>\n",
       "      <th>9</th>\n",
       "      <th>...</th>\n",
       "      <th>178</th>\n",
       "      <th>179</th>\n",
       "      <th>180</th>\n",
       "      <th>181</th>\n",
       "      <th>182</th>\n",
       "      <th>183</th>\n",
       "      <th>184</th>\n",
       "      <th>185</th>\n",
       "      <th>186</th>\n",
       "      <th>187</th>\n",
       "    </tr>\n",
       "  </thead>\n",
       "  <tbody>\n",
       "    <tr>\n",
       "      <th>0</th>\n",
       "      <td>0.977941</td>\n",
       "      <td>0.926471</td>\n",
       "      <td>0.681373</td>\n",
       "      <td>0.245098</td>\n",
       "      <td>0.154412</td>\n",
       "      <td>0.191176</td>\n",
       "      <td>0.151961</td>\n",
       "      <td>0.085784</td>\n",
       "      <td>0.058824</td>\n",
       "      <td>0.049020</td>\n",
       "      <td>...</td>\n",
       "      <td>0.0</td>\n",
       "      <td>0.0</td>\n",
       "      <td>0.0</td>\n",
       "      <td>0.0</td>\n",
       "      <td>0.0</td>\n",
       "      <td>0.0</td>\n",
       "      <td>0.0</td>\n",
       "      <td>0.0</td>\n",
       "      <td>0.0</td>\n",
       "      <td>0.0</td>\n",
       "    </tr>\n",
       "    <tr>\n",
       "      <th>1</th>\n",
       "      <td>0.960114</td>\n",
       "      <td>0.863248</td>\n",
       "      <td>0.461538</td>\n",
       "      <td>0.196581</td>\n",
       "      <td>0.094017</td>\n",
       "      <td>0.125356</td>\n",
       "      <td>0.099715</td>\n",
       "      <td>0.088319</td>\n",
       "      <td>0.074074</td>\n",
       "      <td>0.082621</td>\n",
       "      <td>...</td>\n",
       "      <td>0.0</td>\n",
       "      <td>0.0</td>\n",
       "      <td>0.0</td>\n",
       "      <td>0.0</td>\n",
       "      <td>0.0</td>\n",
       "      <td>0.0</td>\n",
       "      <td>0.0</td>\n",
       "      <td>0.0</td>\n",
       "      <td>0.0</td>\n",
       "      <td>0.0</td>\n",
       "    </tr>\n",
       "    <tr>\n",
       "      <th>2</th>\n",
       "      <td>1.000000</td>\n",
       "      <td>0.659459</td>\n",
       "      <td>0.186486</td>\n",
       "      <td>0.070270</td>\n",
       "      <td>0.070270</td>\n",
       "      <td>0.059459</td>\n",
       "      <td>0.056757</td>\n",
       "      <td>0.043243</td>\n",
       "      <td>0.054054</td>\n",
       "      <td>0.045946</td>\n",
       "      <td>...</td>\n",
       "      <td>0.0</td>\n",
       "      <td>0.0</td>\n",
       "      <td>0.0</td>\n",
       "      <td>0.0</td>\n",
       "      <td>0.0</td>\n",
       "      <td>0.0</td>\n",
       "      <td>0.0</td>\n",
       "      <td>0.0</td>\n",
       "      <td>0.0</td>\n",
       "      <td>0.0</td>\n",
       "    </tr>\n",
       "    <tr>\n",
       "      <th>3</th>\n",
       "      <td>0.925414</td>\n",
       "      <td>0.665746</td>\n",
       "      <td>0.541436</td>\n",
       "      <td>0.276243</td>\n",
       "      <td>0.196133</td>\n",
       "      <td>0.077348</td>\n",
       "      <td>0.071823</td>\n",
       "      <td>0.060773</td>\n",
       "      <td>0.066298</td>\n",
       "      <td>0.058011</td>\n",
       "      <td>...</td>\n",
       "      <td>0.0</td>\n",
       "      <td>0.0</td>\n",
       "      <td>0.0</td>\n",
       "      <td>0.0</td>\n",
       "      <td>0.0</td>\n",
       "      <td>0.0</td>\n",
       "      <td>0.0</td>\n",
       "      <td>0.0</td>\n",
       "      <td>0.0</td>\n",
       "      <td>0.0</td>\n",
       "    </tr>\n",
       "    <tr>\n",
       "      <th>4</th>\n",
       "      <td>0.967136</td>\n",
       "      <td>1.000000</td>\n",
       "      <td>0.830986</td>\n",
       "      <td>0.586854</td>\n",
       "      <td>0.356808</td>\n",
       "      <td>0.248826</td>\n",
       "      <td>0.145540</td>\n",
       "      <td>0.089202</td>\n",
       "      <td>0.117371</td>\n",
       "      <td>0.150235</td>\n",
       "      <td>...</td>\n",
       "      <td>0.0</td>\n",
       "      <td>0.0</td>\n",
       "      <td>0.0</td>\n",
       "      <td>0.0</td>\n",
       "      <td>0.0</td>\n",
       "      <td>0.0</td>\n",
       "      <td>0.0</td>\n",
       "      <td>0.0</td>\n",
       "      <td>0.0</td>\n",
       "      <td>0.0</td>\n",
       "    </tr>\n",
       "  </tbody>\n",
       "</table>\n",
       "<p>5 rows × 188 columns</p>\n",
       "</div>"
      ],
      "text/plain": [
       "        0         1         2         3         4         5         6    \\\n",
       "0  0.977941  0.926471  0.681373  0.245098  0.154412  0.191176  0.151961   \n",
       "1  0.960114  0.863248  0.461538  0.196581  0.094017  0.125356  0.099715   \n",
       "2  1.000000  0.659459  0.186486  0.070270  0.070270  0.059459  0.056757   \n",
       "3  0.925414  0.665746  0.541436  0.276243  0.196133  0.077348  0.071823   \n",
       "4  0.967136  1.000000  0.830986  0.586854  0.356808  0.248826  0.145540   \n",
       "\n",
       "        7         8         9    ...  178  179  180  181  182  183  184  185  \\\n",
       "0  0.085784  0.058824  0.049020  ...  0.0  0.0  0.0  0.0  0.0  0.0  0.0  0.0   \n",
       "1  0.088319  0.074074  0.082621  ...  0.0  0.0  0.0  0.0  0.0  0.0  0.0  0.0   \n",
       "2  0.043243  0.054054  0.045946  ...  0.0  0.0  0.0  0.0  0.0  0.0  0.0  0.0   \n",
       "3  0.060773  0.066298  0.058011  ...  0.0  0.0  0.0  0.0  0.0  0.0  0.0  0.0   \n",
       "4  0.089202  0.117371  0.150235  ...  0.0  0.0  0.0  0.0  0.0  0.0  0.0  0.0   \n",
       "\n",
       "   186  187  \n",
       "0  0.0  0.0  \n",
       "1  0.0  0.0  \n",
       "2  0.0  0.0  \n",
       "3  0.0  0.0  \n",
       "4  0.0  0.0  \n",
       "\n",
       "[5 rows x 188 columns]"
      ]
     },
     "execution_count": 5,
     "metadata": {},
     "output_type": "execute_result"
    }
   ],
   "source": [
    "df_train = pd.read_csv('mitbih_train.csv',header=None)\n",
    "\n",
    "df_train.head()"
   ]
  },
  {
   "cell_type": "code",
   "execution_count": 6,
   "id": "878f2562-79d7-4d9c-9b6d-f2d53227f6bc",
   "metadata": {},
   "outputs": [
    {
     "data": {
      "text/plain": [
       "(87554, 188)"
      ]
     },
     "execution_count": 6,
     "metadata": {},
     "output_type": "execute_result"
    }
   ],
   "source": [
    "df_train.shape"
   ]
  },
  {
   "cell_type": "code",
   "execution_count": 7,
   "id": "067cc5e5-83eb-4e1f-8d5c-f19e93c5414e",
   "metadata": {},
   "outputs": [
    {
     "data": {
      "text/plain": [
       "0"
      ]
     },
     "execution_count": 7,
     "metadata": {},
     "output_type": "execute_result"
    }
   ],
   "source": [
    "df_train.isna().sum().sum()"
   ]
  },
  {
   "cell_type": "code",
   "execution_count": 8,
   "id": "6a2e5fcf-6a3b-46bf-ade0-20cc46c17cc9",
   "metadata": {},
   "outputs": [
    {
     "data": {
      "text/html": [
       "<div>\n",
       "<style scoped>\n",
       "    .dataframe tbody tr th:only-of-type {\n",
       "        vertical-align: middle;\n",
       "    }\n",
       "\n",
       "    .dataframe tbody tr th {\n",
       "        vertical-align: top;\n",
       "    }\n",
       "\n",
       "    .dataframe thead th {\n",
       "        text-align: right;\n",
       "    }\n",
       "</style>\n",
       "<table border=\"1\" class=\"dataframe\">\n",
       "  <thead>\n",
       "    <tr style=\"text-align: right;\">\n",
       "      <th></th>\n",
       "      <th>0</th>\n",
       "      <th>1</th>\n",
       "      <th>2</th>\n",
       "      <th>3</th>\n",
       "      <th>4</th>\n",
       "      <th>5</th>\n",
       "      <th>6</th>\n",
       "      <th>7</th>\n",
       "      <th>8</th>\n",
       "      <th>9</th>\n",
       "      <th>...</th>\n",
       "      <th>178</th>\n",
       "      <th>179</th>\n",
       "      <th>180</th>\n",
       "      <th>181</th>\n",
       "      <th>182</th>\n",
       "      <th>183</th>\n",
       "      <th>184</th>\n",
       "      <th>185</th>\n",
       "      <th>186</th>\n",
       "      <th>target</th>\n",
       "    </tr>\n",
       "  </thead>\n",
       "  <tbody>\n",
       "    <tr>\n",
       "      <th>0</th>\n",
       "      <td>0.977941</td>\n",
       "      <td>0.926471</td>\n",
       "      <td>0.681373</td>\n",
       "      <td>0.245098</td>\n",
       "      <td>0.154412</td>\n",
       "      <td>0.191176</td>\n",
       "      <td>0.151961</td>\n",
       "      <td>0.085784</td>\n",
       "      <td>0.058824</td>\n",
       "      <td>0.049020</td>\n",
       "      <td>...</td>\n",
       "      <td>0.0</td>\n",
       "      <td>0.0</td>\n",
       "      <td>0.0</td>\n",
       "      <td>0.0</td>\n",
       "      <td>0.0</td>\n",
       "      <td>0.0</td>\n",
       "      <td>0.0</td>\n",
       "      <td>0.0</td>\n",
       "      <td>0.0</td>\n",
       "      <td>0.0</td>\n",
       "    </tr>\n",
       "    <tr>\n",
       "      <th>1</th>\n",
       "      <td>0.960114</td>\n",
       "      <td>0.863248</td>\n",
       "      <td>0.461538</td>\n",
       "      <td>0.196581</td>\n",
       "      <td>0.094017</td>\n",
       "      <td>0.125356</td>\n",
       "      <td>0.099715</td>\n",
       "      <td>0.088319</td>\n",
       "      <td>0.074074</td>\n",
       "      <td>0.082621</td>\n",
       "      <td>...</td>\n",
       "      <td>0.0</td>\n",
       "      <td>0.0</td>\n",
       "      <td>0.0</td>\n",
       "      <td>0.0</td>\n",
       "      <td>0.0</td>\n",
       "      <td>0.0</td>\n",
       "      <td>0.0</td>\n",
       "      <td>0.0</td>\n",
       "      <td>0.0</td>\n",
       "      <td>0.0</td>\n",
       "    </tr>\n",
       "  </tbody>\n",
       "</table>\n",
       "<p>2 rows × 188 columns</p>\n",
       "</div>"
      ],
      "text/plain": [
       "          0         1         2         3         4         5         6  \\\n",
       "0  0.977941  0.926471  0.681373  0.245098  0.154412  0.191176  0.151961   \n",
       "1  0.960114  0.863248  0.461538  0.196581  0.094017  0.125356  0.099715   \n",
       "\n",
       "          7         8         9  ...  178  179  180  181  182  183  184  185  \\\n",
       "0  0.085784  0.058824  0.049020  ...  0.0  0.0  0.0  0.0  0.0  0.0  0.0  0.0   \n",
       "1  0.088319  0.074074  0.082621  ...  0.0  0.0  0.0  0.0  0.0  0.0  0.0  0.0   \n",
       "\n",
       "   186  target  \n",
       "0  0.0     0.0  \n",
       "1  0.0     0.0  \n",
       "\n",
       "[2 rows x 188 columns]"
      ]
     },
     "execution_count": 8,
     "metadata": {},
     "output_type": "execute_result"
    }
   ],
   "source": [
    "df_train.rename(columns={187: 'target'}, inplace=True)\n",
    "\n",
    "df_train.head(2)"
   ]
  },
  {
   "cell_type": "code",
   "execution_count": 9,
   "id": "971d1da5-b0a4-40f4-b3cf-04f7e8fa1e06",
   "metadata": {},
   "outputs": [
    {
     "name": "stdout",
     "output_type": "stream",
     "text": [
      "<class 'pandas.core.frame.DataFrame'>\n",
      "RangeIndex: 87554 entries, 0 to 87553\n",
      "Columns: 189 entries, 0 to label\n",
      "dtypes: float64(188), object(1)\n",
      "memory usage: 126.2+ MB\n",
      "None\n"
     ]
    }
   ],
   "source": [
    "id_to_label = {\n",
    "    0: \"Normal Sinus Rhythm\",\n",
    "    1: \"Supraventricular premature beat\",\n",
    "    2: \"Premature ventricular contraction\",\n",
    "    3: \"Fusion of ventricular and normal\",\n",
    "    4: \"Unknown Beat\"\n",
    "}\n",
    "df_train['label'] = df_train.iloc[:, -1].map(id_to_label)\n",
    "print(df_train.info())"
   ]
  },
  {
   "cell_type": "code",
   "execution_count": 10,
   "id": "5e002ee7-caf9-4d39-8844-cdc855a41c08",
   "metadata": {},
   "outputs": [
    {
     "data": {
      "text/html": [
       "<div>\n",
       "<style scoped>\n",
       "    .dataframe tbody tr th:only-of-type {\n",
       "        vertical-align: middle;\n",
       "    }\n",
       "\n",
       "    .dataframe tbody tr th {\n",
       "        vertical-align: top;\n",
       "    }\n",
       "\n",
       "    .dataframe thead th {\n",
       "        text-align: right;\n",
       "    }\n",
       "</style>\n",
       "<table border=\"1\" class=\"dataframe\">\n",
       "  <thead>\n",
       "    <tr style=\"text-align: right;\">\n",
       "      <th></th>\n",
       "      <th>target</th>\n",
       "      <th>label</th>\n",
       "    </tr>\n",
       "  </thead>\n",
       "  <tbody>\n",
       "    <tr>\n",
       "      <th>0</th>\n",
       "      <td>0.0</td>\n",
       "      <td>Normal Sinus Rhythm</td>\n",
       "    </tr>\n",
       "    <tr>\n",
       "      <th>1</th>\n",
       "      <td>0.0</td>\n",
       "      <td>Normal Sinus Rhythm</td>\n",
       "    </tr>\n",
       "    <tr>\n",
       "      <th>2</th>\n",
       "      <td>0.0</td>\n",
       "      <td>Normal Sinus Rhythm</td>\n",
       "    </tr>\n",
       "    <tr>\n",
       "      <th>3</th>\n",
       "      <td>0.0</td>\n",
       "      <td>Normal Sinus Rhythm</td>\n",
       "    </tr>\n",
       "    <tr>\n",
       "      <th>4</th>\n",
       "      <td>0.0</td>\n",
       "      <td>Normal Sinus Rhythm</td>\n",
       "    </tr>\n",
       "  </tbody>\n",
       "</table>\n",
       "</div>"
      ],
      "text/plain": [
       "   target                label\n",
       "0     0.0  Normal Sinus Rhythm\n",
       "1     0.0  Normal Sinus Rhythm\n",
       "2     0.0  Normal Sinus Rhythm\n",
       "3     0.0  Normal Sinus Rhythm\n",
       "4     0.0  Normal Sinus Rhythm"
      ]
     },
     "execution_count": 10,
     "metadata": {},
     "output_type": "execute_result"
    }
   ],
   "source": [
    "df_train.iloc[:,-2:].head()"
   ]
  },
  {
   "cell_type": "code",
   "execution_count": 8,
   "id": "f711468f-1ac4-48e3-abc1-eb8a737f088c",
   "metadata": {},
   "outputs": [],
   "source": [
    "# #visualize the count\n",
    "# print('Target Balance information ')\n",
    "# print(df['Exited'].value_counts(), '\\n')\n",
    "# sns.countplot(df.Exited,label=\"count\")\n",
    "# sns.set_theme()\n",
    "# plt.text(x = -0.05 , y = df['Exited'].value_counts()[0]+2, s=str(round(df['Exited'].value_counts()[0]*100/len(df), 2))+'%' )\n",
    "# plt.text(x = 0.9 , y = df['Exited'].value_counts()[1]+2, s=str(round(df['Exited'].value_counts()[1]*100/len(df), 2))+'%' )\n",
    "# plt.show()"
   ]
  },
  {
   "cell_type": "code",
   "execution_count": 14,
   "id": "02db0c61-1284-49c6-843f-9d869e45e47e",
   "metadata": {},
   "outputs": [
    {
     "data": {
      "image/png": "[encoded data removed]",
      "text/plain": [
       "<Figure size 864x432 with 1 Axes>"
      ]
     },
     "metadata": {
      "needs_background": "light"
     },
     "output_type": "display_data"
    }
   ],
   "source": [
    "percentages = [count / df_train.shape[0] * 100 for count in df_train['label'].value_counts()]\n",
    "\n",
    "fig, ax = plt.subplots(figsize=(12, 6))\n",
    "sns.countplot(\n",
    "    x=df_train['label'],\n",
    "    ax=ax,\n",
    "    palette=\"bright\",\n",
    "    order=df_train['label'].value_counts().index\n",
    ")\n",
    "ax.set_xticklabels(ax.get_xticklabels(), rotation=15);\n",
    "\n",
    "for percentage, count, p in zip(\n",
    "    percentages,\n",
    "    df_train['label'].value_counts(sort=True).values,\n",
    "    ax.patches):\n",
    "    \n",
    "    percentage = f'{np.round(percentage, 2)}%'\n",
    "    x = p.get_x() + p.get_width() / 2 - 0.4\n",
    "    y = p.get_y() + p.get_height()\n",
    "    ax.annotate(str(percentage)+\" / \"+str(count), (x, y), fontsize=12, fontweight='bold')\n",
    "    \n",
    "plt.suptitle(\"Count Plot- Percentage of Number of Categories\", fontsize=20, y=1.05, weight=\"bold\") \n",
    "\n",
    "plt.savefig('data_dist.png', facecolor='w', edgecolor='w', format='png',\n",
    "        transparent=False, bbox_inches='tight', pad_inches=0.1)\n",
    "plt.savefig('data_dist.svg', facecolor='w', edgecolor='w', format='svg',\n",
    "        transparent=False, bbox_inches='tight', pad_inches=0.1)"
   ]
  },
  {
   "cell_type": "code",
   "execution_count": 15,
   "id": "e440cdf5-ad2a-4224-8fa2-45f1d3ca03e8",
   "metadata": {},
   "outputs": [
    {
     "data": {
      "image/png": "[encoded data removed]",
      "text/plain": [
       "<Figure size 1440x504 with 6 Axes>"
      ]
     },
     "metadata": {},
     "output_type": "display_data"
    }
   ],
   "source": [
    "N = 5\n",
    "samples = [df_train.loc[df_train['target'] == cls].sample(N) for cls in range(N)]\n",
    "titles = [id_to_label[cls] for cls in range(5)]\n",
    "\n",
    "with plt.style.context(\"seaborn-white\"):\n",
    "    fig, axs = plt.subplots(3, 2, figsize=(20, 7))\n",
    "    for i in range(5):\n",
    "        ax = axs.flat[i]\n",
    "        ax.plot(samples[i].values[:,:-2].transpose())\n",
    "        ax.set_title(titles[i])\n",
    "        #plt.ylabel(\"Amplitude\")\n",
    "\n",
    "    plt.tight_layout()\n",
    "    plt.suptitle(\"ECG Signals\", fontsize=20, y=1.05, weight=\"bold\")\n",
    "    plt.savefig(f\"signals_per_class.svg\",\n",
    "                    format=\"svg\",bbox_inches='tight', pad_inches=0.2)\n",
    "        \n",
    "    plt.savefig(f\"signals_per_class.png\", \n",
    "                    format=\"png\",bbox_inches='tight', pad_inches=0.2) "
   ]
  },
  {
   "cell_type": "code",
   "execution_count": 16,
   "id": "c8116cdd-c902-4b20-9431-c7dd5b9ceb30",
   "metadata": {},
   "outputs": [
    {
     "data": {
      "text/html": [
       "<div>\n",
       "<style scoped>\n",
       "    .dataframe tbody tr th:only-of-type {\n",
       "        vertical-align: middle;\n",
       "    }\n",
       "\n",
       "    .dataframe tbody tr th {\n",
       "        vertical-align: top;\n",
       "    }\n",
       "\n",
       "    .dataframe thead th {\n",
       "        text-align: right;\n",
       "    }\n",
       "</style>\n",
       "<table border=\"1\" class=\"dataframe\">\n",
       "  <thead>\n",
       "    <tr style=\"text-align: right;\">\n",
       "      <th></th>\n",
       "      <th>0</th>\n",
       "      <th>1</th>\n",
       "      <th>2</th>\n",
       "      <th>3</th>\n",
       "      <th>4</th>\n",
       "      <th>5</th>\n",
       "      <th>6</th>\n",
       "      <th>7</th>\n",
       "      <th>8</th>\n",
       "      <th>9</th>\n",
       "      <th>...</th>\n",
       "      <th>177</th>\n",
       "      <th>178</th>\n",
       "      <th>179</th>\n",
       "      <th>180</th>\n",
       "      <th>181</th>\n",
       "      <th>182</th>\n",
       "      <th>183</th>\n",
       "      <th>184</th>\n",
       "      <th>185</th>\n",
       "      <th>186</th>\n",
       "    </tr>\n",
       "  </thead>\n",
       "  <tbody>\n",
       "    <tr>\n",
       "      <th>0</th>\n",
       "      <td>0.363548</td>\n",
       "      <td>0.758797</td>\n",
       "      <td>1.132406</td>\n",
       "      <td>0.12565</td>\n",
       "      <td>-0.263843</td>\n",
       "      <td>-0.111820</td>\n",
       "      <td>-0.301699</td>\n",
       "      <td>-0.654419</td>\n",
       "      <td>-0.814241</td>\n",
       "      <td>-0.877525</td>\n",
       "      <td>...</td>\n",
       "      <td>-0.11733</td>\n",
       "      <td>-0.113797</td>\n",
       "      <td>-0.109952</td>\n",
       "      <td>-0.105881</td>\n",
       "      <td>-0.102064</td>\n",
       "      <td>-0.098977</td>\n",
       "      <td>-0.095748</td>\n",
       "      <td>-0.092596</td>\n",
       "      <td>-0.089594</td>\n",
       "      <td>-0.08794</td>\n",
       "    </tr>\n",
       "    <tr>\n",
       "      <th>1</th>\n",
       "      <td>0.289547</td>\n",
       "      <td>0.473768</td>\n",
       "      <td>0.165269</td>\n",
       "      <td>-0.10887</td>\n",
       "      <td>-0.604947</td>\n",
       "      <td>-0.494702</td>\n",
       "      <td>-0.594425</td>\n",
       "      <td>-0.640117</td>\n",
       "      <td>-0.725460</td>\n",
       "      <td>-0.677940</td>\n",
       "      <td>...</td>\n",
       "      <td>-0.11733</td>\n",
       "      <td>-0.113797</td>\n",
       "      <td>-0.109952</td>\n",
       "      <td>-0.105881</td>\n",
       "      <td>-0.102064</td>\n",
       "      <td>-0.098977</td>\n",
       "      <td>-0.095748</td>\n",
       "      <td>-0.092596</td>\n",
       "      <td>-0.089594</td>\n",
       "      <td>-0.08794</td>\n",
       "    </tr>\n",
       "  </tbody>\n",
       "</table>\n",
       "<p>2 rows × 187 columns</p>\n",
       "</div>"
      ],
      "text/plain": [
       "        0         1         2        3         4         5         6    \\\n",
       "0  0.363548  0.758797  1.132406  0.12565 -0.263843 -0.111820 -0.301699   \n",
       "1  0.289547  0.473768  0.165269 -0.10887 -0.604947 -0.494702 -0.594425   \n",
       "\n",
       "        7         8         9    ...      177       178       179       180  \\\n",
       "0 -0.654419 -0.814241 -0.877525  ... -0.11733 -0.113797 -0.109952 -0.105881   \n",
       "1 -0.640117 -0.725460 -0.677940  ... -0.11733 -0.113797 -0.109952 -0.105881   \n",
       "\n",
       "        181       182       183       184       185      186  \n",
       "0 -0.102064 -0.098977 -0.095748 -0.092596 -0.089594 -0.08794  \n",
       "1 -0.102064 -0.098977 -0.095748 -0.092596 -0.089594 -0.08794  \n",
       "\n",
       "[2 rows x 187 columns]"
      ]
     },
     "execution_count": 16,
     "metadata": {},
     "output_type": "execute_result"
    }
   ],
   "source": [
    "#Standard Scaling \n",
    "from sklearn.preprocessing import StandardScaler, MinMaxScaler\n",
    "X_train= df_train.drop(['target', 'label'], axis = 1)\n",
    "y_train = df_train.target\n",
    "std = StandardScaler()\n",
    "X_scaled = std.fit_transform(X_train)\n",
    "X_train = pd.DataFrame(X_scaled, columns= X_train.columns)\n",
    "X_train.head(2)"
   ]
  },
  {
   "cell_type": "code",
   "execution_count": 20,
   "id": "8ac7f637-f164-4022-aa0f-50ad59156492",
   "metadata": {},
   "outputs": [
    {
     "data": {
      "text/html": [
       "<div>\n",
       "<style scoped>\n",
       "    .dataframe tbody tr th:only-of-type {\n",
       "        vertical-align: middle;\n",
       "    }\n",
       "\n",
       "    .dataframe tbody tr th {\n",
       "        vertical-align: top;\n",
       "    }\n",
       "\n",
       "    .dataframe thead th {\n",
       "        text-align: right;\n",
       "    }\n",
       "</style>\n",
       "<table border=\"1\" class=\"dataframe\">\n",
       "  <thead>\n",
       "    <tr style=\"text-align: right;\">\n",
       "      <th></th>\n",
       "      <th>0</th>\n",
       "      <th>1</th>\n",
       "      <th>2</th>\n",
       "      <th>3</th>\n",
       "      <th>4</th>\n",
       "      <th>5</th>\n",
       "      <th>6</th>\n",
       "      <th>7</th>\n",
       "      <th>8</th>\n",
       "      <th>9</th>\n",
       "      <th>...</th>\n",
       "      <th>178</th>\n",
       "      <th>179</th>\n",
       "      <th>180</th>\n",
       "      <th>181</th>\n",
       "      <th>182</th>\n",
       "      <th>183</th>\n",
       "      <th>184</th>\n",
       "      <th>185</th>\n",
       "      <th>186</th>\n",
       "      <th>187</th>\n",
       "    </tr>\n",
       "  </thead>\n",
       "  <tbody>\n",
       "    <tr>\n",
       "      <th>0</th>\n",
       "      <td>1.0</td>\n",
       "      <td>0.758264</td>\n",
       "      <td>0.11157</td>\n",
       "      <td>0.0</td>\n",
       "      <td>0.080579</td>\n",
       "      <td>0.078512</td>\n",
       "      <td>0.066116</td>\n",
       "      <td>0.049587</td>\n",
       "      <td>0.047521</td>\n",
       "      <td>0.035124</td>\n",
       "      <td>...</td>\n",
       "      <td>0.0</td>\n",
       "      <td>0.0</td>\n",
       "      <td>0.0</td>\n",
       "      <td>0.0</td>\n",
       "      <td>0.0</td>\n",
       "      <td>0.0</td>\n",
       "      <td>0.0</td>\n",
       "      <td>0.0</td>\n",
       "      <td>0.0</td>\n",
       "      <td>0.0</td>\n",
       "    </tr>\n",
       "  </tbody>\n",
       "</table>\n",
       "<p>1 rows × 188 columns</p>\n",
       "</div>"
      ],
      "text/plain": [
       "   0         1        2    3         4         5         6         7    \\\n",
       "0  1.0  0.758264  0.11157  0.0  0.080579  0.078512  0.066116  0.049587   \n",
       "\n",
       "        8         9    ...  178  179  180  181  182  183  184  185  186  187  \n",
       "0  0.047521  0.035124  ...  0.0  0.0  0.0  0.0  0.0  0.0  0.0  0.0  0.0  0.0  \n",
       "\n",
       "[1 rows x 188 columns]"
      ]
     },
     "execution_count": 20,
     "metadata": {},
     "output_type": "execute_result"
    }
   ],
   "source": [
    "df_test = pd.read_csv('mitbih_test.csv',header=None)\n",
    "\n",
    "df_test.head(1)"
   ]
  },
  {
   "cell_type": "code",
   "execution_count": 21,
   "id": "33dc9fa1-c4f3-4e97-8a59-83c1a51518e6",
   "metadata": {},
   "outputs": [
    {
     "data": {
      "text/plain": [
       "(21892, 188)"
      ]
     },
     "execution_count": 21,
     "metadata": {},
     "output_type": "execute_result"
    }
   ],
   "source": [
    "df_test.shape"
   ]
  },
  {
   "cell_type": "code",
   "execution_count": 22,
   "id": "3282595b-7b05-4341-8f12-6df82264fea7",
   "metadata": {},
   "outputs": [],
   "source": [
    "df_test.rename(columns={187: 'target'}, inplace=True)"
   ]
  },
  {
   "cell_type": "code",
   "execution_count": 23,
   "id": "5a01a8b7-cadf-42a7-be2f-d8b97078530f",
   "metadata": {},
   "outputs": [
    {
     "data": {
      "text/plain": [
       "array([0, 1, 2, 3, 4])"
      ]
     },
     "execution_count": 23,
     "metadata": {},
     "output_type": "execute_result"
    }
   ],
   "source": [
    "df_test.target.astype('int').unique()"
   ]
  },
  {
   "cell_type": "code",
   "execution_count": 24,
   "id": "ebc9bf88-cb7f-4c8f-aa15-edc441c65dce",
   "metadata": {},
   "outputs": [
    {
     "data": {
      "text/html": [
       "<div>\n",
       "<style scoped>\n",
       "    .dataframe tbody tr th:only-of-type {\n",
       "        vertical-align: middle;\n",
       "    }\n",
       "\n",
       "    .dataframe tbody tr th {\n",
       "        vertical-align: top;\n",
       "    }\n",
       "\n",
       "    .dataframe thead th {\n",
       "        text-align: right;\n",
       "    }\n",
       "</style>\n",
       "<table border=\"1\" class=\"dataframe\">\n",
       "  <thead>\n",
       "    <tr style=\"text-align: right;\">\n",
       "      <th></th>\n",
       "      <th>0</th>\n",
       "      <th>1</th>\n",
       "      <th>2</th>\n",
       "      <th>3</th>\n",
       "      <th>4</th>\n",
       "      <th>5</th>\n",
       "      <th>6</th>\n",
       "      <th>7</th>\n",
       "      <th>8</th>\n",
       "      <th>9</th>\n",
       "      <th>...</th>\n",
       "      <th>177</th>\n",
       "      <th>178</th>\n",
       "      <th>179</th>\n",
       "      <th>180</th>\n",
       "      <th>181</th>\n",
       "      <th>182</th>\n",
       "      <th>183</th>\n",
       "      <th>184</th>\n",
       "      <th>185</th>\n",
       "      <th>186</th>\n",
       "    </tr>\n",
       "  </thead>\n",
       "  <tbody>\n",
       "    <tr>\n",
       "      <th>0</th>\n",
       "      <td>0.450172</td>\n",
       "      <td>-0.016637</td>\n",
       "      <td>-1.378397</td>\n",
       "      <td>-1.061762</td>\n",
       "      <td>-0.681382</td>\n",
       "      <td>-0.762984</td>\n",
       "      <td>-0.779404</td>\n",
       "      <td>-0.859583</td>\n",
       "      <td>-0.881855</td>\n",
       "      <td>-0.965181</td>\n",
       "      <td>...</td>\n",
       "      <td>-0.111845</td>\n",
       "      <td>-0.106373</td>\n",
       "      <td>-0.102577</td>\n",
       "      <td>-0.099859</td>\n",
       "      <td>-0.096178</td>\n",
       "      <td>-0.094419</td>\n",
       "      <td>-0.091705</td>\n",
       "      <td>-0.088195</td>\n",
       "      <td>-0.084461</td>\n",
       "      <td>-0.083528</td>\n",
       "    </tr>\n",
       "    <tr>\n",
       "      <th>1</th>\n",
       "      <td>0.059751</td>\n",
       "      <td>0.100527</td>\n",
       "      <td>0.457235</td>\n",
       "      <td>0.675789</td>\n",
       "      <td>0.926295</td>\n",
       "      <td>0.780719</td>\n",
       "      <td>0.722304</td>\n",
       "      <td>0.605774</td>\n",
       "      <td>0.581996</td>\n",
       "      <td>0.625928</td>\n",
       "      <td>...</td>\n",
       "      <td>-0.111845</td>\n",
       "      <td>-0.106373</td>\n",
       "      <td>-0.102577</td>\n",
       "      <td>-0.099859</td>\n",
       "      <td>-0.096178</td>\n",
       "      <td>-0.094419</td>\n",
       "      <td>-0.091705</td>\n",
       "      <td>-0.088195</td>\n",
       "      <td>-0.084461</td>\n",
       "      <td>-0.083528</td>\n",
       "    </tr>\n",
       "  </tbody>\n",
       "</table>\n",
       "<p>2 rows × 187 columns</p>\n",
       "</div>"
      ],
      "text/plain": [
       "        0         1         2         3         4         5         6    \\\n",
       "0  0.450172 -0.016637 -1.378397 -1.061762 -0.681382 -0.762984 -0.779404   \n",
       "1  0.059751  0.100527  0.457235  0.675789  0.926295  0.780719  0.722304   \n",
       "\n",
       "        7         8         9    ...       177       178       179       180  \\\n",
       "0 -0.859583 -0.881855 -0.965181  ... -0.111845 -0.106373 -0.102577 -0.099859   \n",
       "1  0.605774  0.581996  0.625928  ... -0.111845 -0.106373 -0.102577 -0.099859   \n",
       "\n",
       "        181       182       183       184       185       186  \n",
       "0 -0.096178 -0.094419 -0.091705 -0.088195 -0.084461 -0.083528  \n",
       "1 -0.096178 -0.094419 -0.091705 -0.088195 -0.084461 -0.083528  \n",
       "\n",
       "[2 rows x 187 columns]"
      ]
     },
     "execution_count": 24,
     "metadata": {},
     "output_type": "execute_result"
    }
   ],
   "source": [
    "X_test = df_test.drop(['target'], axis =1)\n",
    "y_test = df_test['target']\n",
    "\n",
    "X_test_scaled = std.fit_transform(X_test)\n",
    "X_test = pd.DataFrame(X_test_scaled, columns= X_test.columns)\n",
    "X_test.head(2)"
   ]
  },
  {
   "cell_type": "code",
   "execution_count": 25,
   "id": "1ad7c5c1-c7ee-434d-87b1-a826ddc05f11",
   "metadata": {},
   "outputs": [],
   "source": [
    "from sklearn.cluster import KMeans\n",
    "from sklearn.metrics import silhouette_score, silhouette_samples\n",
    "from sklearn.tree import DecisionTreeClassifier\n",
    "from sklearn.decomposition import PCA, TruncatedSVD\n",
    "from sklearn.metrics import accuracy_score, confusion_matrix, roc_auc_score, classification_report\n",
    "from sklearn.discriminant_analysis import LinearDiscriminantAnalysis"
   ]
  },
  {
   "cell_type": "code",
   "execution_count": 26,
   "id": "8c961b32-de3e-4188-863d-9daab03f2078",
   "metadata": {},
   "outputs": [],
   "source": [
    "# from sklexplained_variance_earn.preprocessing import PCA\n",
    "pca = PCA(0.95)\n",
    "X_train_pca = pca.fit_transform(X_train)\n",
    "X_test_pca = pca.fit_transform(X_test)"
   ]
  },
  {
   "cell_type": "code",
   "execution_count": 27,
   "id": "f92e876c-84aa-449a-b035-a6dad47b128b",
   "metadata": {},
   "outputs": [
    {
     "data": {
      "text/plain": [
       "(187, 41)"
      ]
     },
     "execution_count": 27,
     "metadata": {},
     "output_type": "execute_result"
    }
   ],
   "source": [
    "pca.components_.T.shape"
   ]
  },
  {
   "cell_type": "code",
   "execution_count": 28,
   "id": "e4f00cac-9c2e-4b6b-9e1e-17dcc74ce556",
   "metadata": {},
   "outputs": [],
   "source": [
    "var = pca.explained_variance_ratio_\n",
    "cumsum = np.cumsum(var)"
   ]
  },
  {
   "cell_type": "code",
   "execution_count": 29,
   "id": "e0ab2cf2-4091-4ba5-9f7b-e91f5440e74f",
   "metadata": {},
   "outputs": [
    {
     "data": {
      "image/png": "[encoded data removed]",
      "text/plain": [
       "<Figure size 720x288 with 1 Axes>"
      ]
     },
     "metadata": {
      "needs_background": "light"
     },
     "output_type": "display_data"
    }
   ],
   "source": [
    "plt.rcParams['figure.figsize'] = (10, 4)\n",
    "plt.step(range(1, 42), cumsum)\n",
    "plt.bar(range(1,42), var)\n",
    "plt.axhline(y = .95, c = 'red')\n",
    "plt.tight_layout()\n",
    "plt.show()"
   ]
  },
  {
   "cell_type": "code",
   "execution_count": 30,
   "id": "f4e15bd3-efb0-4ee2-b532-5f4b48f23a5b",
   "metadata": {},
   "outputs": [],
   "source": [
    "pca1 = PCA(n_components= 41)\n",
    "X_train_pca1 =pca1.fit_transform(X_train)\n",
    "X_test_pca1 =pca1.fit_transform(X_test)"
   ]
  },
  {
   "cell_type": "code",
   "execution_count": 31,
   "id": "bbc243b4-3330-4214-84b8-9f7b0741824f",
   "metadata": {},
   "outputs": [],
   "source": [
    "#building model DecisionTree\n",
    "svd_dt = DecisionTreeClassifier(criterion='entropy', random_state=100)\n",
    "svd_dt = svd_dt.fit(X_train_pca1, y_train)"
   ]
  },
  {
   "cell_type": "code",
   "execution_count": 32,
   "id": "9107f0bf-0e78-41a2-9473-c71f1c12d6c1",
   "metadata": {},
   "outputs": [
    {
     "data": {
      "text/plain": [
       "array([0, 2, 1, 0, 4, 0, 0, 1, 0, 0, 0, 0, 0, 0, 0, 0, 0, 0, 0, 4, 0, 0,\n",
       "       0, 0, 0, 0, 0, 0, 0, 0, 0, 2, 0, 0, 0, 0, 0, 0, 0, 2, 2, 0, 0, 1,\n",
       "       0, 0, 0, 0, 0, 0])"
      ]
     },
     "execution_count": 32,
     "metadata": {},
     "output_type": "execute_result"
    }
   ],
   "source": [
    "y_pred_pca1 = svd_dt.predict(X_test_pca1).astype('int')\n",
    "\n",
    "y_pred_pca1[0:50]"
   ]
  },
  {
   "cell_type": "code",
   "execution_count": 33,
   "id": "79dcbb37-eb73-4650-af6b-ccfec51b702e",
   "metadata": {},
   "outputs": [
    {
     "data": {
      "text/plain": [
       "0.8287959071807053"
      ]
     },
     "execution_count": 33,
     "metadata": {},
     "output_type": "execute_result"
    }
   ],
   "source": [
    "accuracy_score(y_test, y_pred_pca1)"
   ]
  },
  {
   "cell_type": "code",
   "execution_count": 34,
   "id": "09b4ca13-94f7-4c33-8374-706eeb870328",
   "metadata": {
    "tags": []
   },
   "outputs": [
    {
     "name": "stdout",
     "output_type": "stream",
     "text": [
      "              precision    recall  f1-score   support\n",
      "\n",
      "         0.0       0.94      0.88      0.91     18118\n",
      "         1.0       0.15      0.30      0.20       556\n",
      "         2.0       0.42      0.55      0.48      1448\n",
      "         3.0       0.13      0.24      0.17       162\n",
      "         4.0       0.69      0.76      0.72      1608\n",
      "\n",
      "    accuracy                           0.83     21892\n",
      "   macro avg       0.47      0.54      0.50     21892\n",
      "weighted avg       0.86      0.83      0.84     21892\n",
      "\n"
     ]
    }
   ],
   "source": [
    "print(classification_report(y_test, y_pred_pca1))"
   ]
  },
  {
   "cell_type": "code",
   "execution_count": 35,
   "id": "1221175c-ecde-4d91-b37a-33b1d0f90ef5",
   "metadata": {},
   "outputs": [
    {
     "data": {
      "text/plain": [
       "array([[15932,   854,   807,   205,   320],\n",
       "       [  357,   165,    29,     3,     2],\n",
       "       [  354,    42,   791,    48,   213],\n",
       "       [   90,     0,    33,    39,     0],\n",
       "       [  170,    15,   206,     0,  1217]], dtype=int64)"
      ]
     },
     "execution_count": 35,
     "metadata": {},
     "output_type": "execute_result"
    }
   ],
   "source": [
    "confusion_matrix(y_test, y_pred_pca1)"
   ]
  },
  {
   "cell_type": "code",
   "execution_count": 36,
   "id": "3f890fed-363a-49d3-8e7b-c827f90fd36e",
   "metadata": {},
   "outputs": [],
   "source": [
    "from sklearn.metrics import plot_confusion_matrix\n",
    "\n",
    "from warnings import filterwarnings \n",
    "filterwarnings('ignore')"
   ]
  },
  {
   "cell_type": "code",
   "execution_count": 37,
   "id": "c5054c05-d89c-406d-aed0-3b635192c624",
   "metadata": {},
   "outputs": [
    {
     "data": {
      "image/png": "[encoded data removed]",
      "text/plain": [
       "<Figure size 720x288 with 2 Axes>"
      ]
     },
     "metadata": {
      "needs_background": "light"
     },
     "output_type": "display_data"
    }
   ],
   "source": [
    "plot_confusion_matrix(estimator= svd_dt, X = X_test_pca1.copy(), y_true=y_test.copy())\n",
    "plt.show()"
   ]
  },
  {
   "cell_type": "markdown",
   "id": "a4bf8a80",
   "metadata": {},
   "source": [
    "### Conclusion:"
   ]
  },
  {
   "cell_type": "markdown",
   "id": "15e75346",
   "metadata": {},
   "source": [
    "#### ***Data is imbalanced across all the sub-categories, this may require Upsamling or Downsampling to synthesise the data"
   ]
  },
  {
   "cell_type": "markdown",
   "id": "ae0c64ff",
   "metadata": {},
   "source": [
    "## ECG_Classification_SMOTE"
   ]
  },
  {
   "cell_type": "code",
   "execution_count": 63,
   "id": "ced4693e",
   "metadata": {},
   "outputs": [],
   "source": [
    "df1=pd.read_csv('mitbih_train.csv',header=None)\n",
    "df2=pd.read_csv('mitbih_test.csv',header=None)"
   ]
  },
  {
   "cell_type": "code",
   "execution_count": 64,
   "id": "3bda87b4-2f2e-4005-b23a-39f0da6c670a",
   "metadata": {},
   "outputs": [],
   "source": [
    "# concat the two dataframes\n",
    "df=pd.concat([df1,df2],ignore_index=True,sort=False)"
   ]
  },
  {
   "cell_type": "code",
   "execution_count": 65,
   "id": "cb2792da",
   "metadata": {},
   "outputs": [
    {
     "data": {
      "text/html": [
       "<div>\n",
       "<style scoped>\n",
       "    .dataframe tbody tr th:only-of-type {\n",
       "        vertical-align: middle;\n",
       "    }\n",
       "\n",
       "    .dataframe tbody tr th {\n",
       "        vertical-align: top;\n",
       "    }\n",
       "\n",
       "    .dataframe thead th {\n",
       "        text-align: right;\n",
       "    }\n",
       "</style>\n",
       "<table border=\"1\" class=\"dataframe\">\n",
       "  <thead>\n",
       "    <tr style=\"text-align: right;\">\n",
       "      <th></th>\n",
       "      <th>0</th>\n",
       "      <th>1</th>\n",
       "      <th>2</th>\n",
       "      <th>3</th>\n",
       "      <th>4</th>\n",
       "      <th>5</th>\n",
       "      <th>6</th>\n",
       "      <th>7</th>\n",
       "      <th>8</th>\n",
       "      <th>9</th>\n",
       "      <th>...</th>\n",
       "      <th>178</th>\n",
       "      <th>179</th>\n",
       "      <th>180</th>\n",
       "      <th>181</th>\n",
       "      <th>182</th>\n",
       "      <th>183</th>\n",
       "      <th>184</th>\n",
       "      <th>185</th>\n",
       "      <th>186</th>\n",
       "      <th>187</th>\n",
       "    </tr>\n",
       "  </thead>\n",
       "  <tbody>\n",
       "    <tr>\n",
       "      <th>0</th>\n",
       "      <td>0.977941</td>\n",
       "      <td>0.926471</td>\n",
       "      <td>0.681373</td>\n",
       "      <td>0.245098</td>\n",
       "      <td>0.154412</td>\n",
       "      <td>0.191176</td>\n",
       "      <td>0.151961</td>\n",
       "      <td>0.085784</td>\n",
       "      <td>0.058824</td>\n",
       "      <td>0.049020</td>\n",
       "      <td>...</td>\n",
       "      <td>0.0</td>\n",
       "      <td>0.0</td>\n",
       "      <td>0.0</td>\n",
       "      <td>0.0</td>\n",
       "      <td>0.0</td>\n",
       "      <td>0.0</td>\n",
       "      <td>0.0</td>\n",
       "      <td>0.0</td>\n",
       "      <td>0.0</td>\n",
       "      <td>0.0</td>\n",
       "    </tr>\n",
       "    <tr>\n",
       "      <th>1</th>\n",
       "      <td>0.960114</td>\n",
       "      <td>0.863248</td>\n",
       "      <td>0.461538</td>\n",
       "      <td>0.196581</td>\n",
       "      <td>0.094017</td>\n",
       "      <td>0.125356</td>\n",
       "      <td>0.099715</td>\n",
       "      <td>0.088319</td>\n",
       "      <td>0.074074</td>\n",
       "      <td>0.082621</td>\n",
       "      <td>...</td>\n",
       "      <td>0.0</td>\n",
       "      <td>0.0</td>\n",
       "      <td>0.0</td>\n",
       "      <td>0.0</td>\n",
       "      <td>0.0</td>\n",
       "      <td>0.0</td>\n",
       "      <td>0.0</td>\n",
       "      <td>0.0</td>\n",
       "      <td>0.0</td>\n",
       "      <td>0.0</td>\n",
       "    </tr>\n",
       "  </tbody>\n",
       "</table>\n",
       "<p>2 rows × 188 columns</p>\n",
       "</div>"
      ],
      "text/plain": [
       "        0         1         2         3         4         5         6    \\\n",
       "0  0.977941  0.926471  0.681373  0.245098  0.154412  0.191176  0.151961   \n",
       "1  0.960114  0.863248  0.461538  0.196581  0.094017  0.125356  0.099715   \n",
       "\n",
       "        7         8         9    ...  178  179  180  181  182  183  184  185  \\\n",
       "0  0.085784  0.058824  0.049020  ...  0.0  0.0  0.0  0.0  0.0  0.0  0.0  0.0   \n",
       "1  0.088319  0.074074  0.082621  ...  0.0  0.0  0.0  0.0  0.0  0.0  0.0  0.0   \n",
       "\n",
       "   186  187  \n",
       "0  0.0  0.0  \n",
       "1  0.0  0.0  \n",
       "\n",
       "[2 rows x 188 columns]"
      ]
     },
     "execution_count": 65,
     "metadata": {},
     "output_type": "execute_result"
    }
   ],
   "source": [
    "df.head(2)"
   ]
  },
  {
   "cell_type": "code",
   "execution_count": 66,
   "id": "9941bf31",
   "metadata": {},
   "outputs": [
    {
     "data": {
      "text/html": [
       "<div>\n",
       "<style scoped>\n",
       "    .dataframe tbody tr th:only-of-type {\n",
       "        vertical-align: middle;\n",
       "    }\n",
       "\n",
       "    .dataframe tbody tr th {\n",
       "        vertical-align: top;\n",
       "    }\n",
       "\n",
       "    .dataframe thead th {\n",
       "        text-align: right;\n",
       "    }\n",
       "</style>\n",
       "<table border=\"1\" class=\"dataframe\">\n",
       "  <thead>\n",
       "    <tr style=\"text-align: right;\">\n",
       "      <th></th>\n",
       "      <th>0</th>\n",
       "      <th>1</th>\n",
       "      <th>2</th>\n",
       "      <th>3</th>\n",
       "      <th>4</th>\n",
       "      <th>5</th>\n",
       "      <th>6</th>\n",
       "      <th>7</th>\n",
       "      <th>8</th>\n",
       "      <th>9</th>\n",
       "      <th>...</th>\n",
       "      <th>178</th>\n",
       "      <th>179</th>\n",
       "      <th>180</th>\n",
       "      <th>181</th>\n",
       "      <th>182</th>\n",
       "      <th>183</th>\n",
       "      <th>184</th>\n",
       "      <th>185</th>\n",
       "      <th>186</th>\n",
       "      <th>187</th>\n",
       "    </tr>\n",
       "  </thead>\n",
       "  <tbody>\n",
       "    <tr>\n",
       "      <th>109444</th>\n",
       "      <td>0.984127</td>\n",
       "      <td>0.567460</td>\n",
       "      <td>0.607143</td>\n",
       "      <td>0.583333</td>\n",
       "      <td>0.607143</td>\n",
       "      <td>0.575397</td>\n",
       "      <td>0.575397</td>\n",
       "      <td>0.488095</td>\n",
       "      <td>0.392857</td>\n",
       "      <td>0.238095</td>\n",
       "      <td>...</td>\n",
       "      <td>0.0</td>\n",
       "      <td>0.0</td>\n",
       "      <td>0.0</td>\n",
       "      <td>0.0</td>\n",
       "      <td>0.0</td>\n",
       "      <td>0.0</td>\n",
       "      <td>0.0</td>\n",
       "      <td>0.0</td>\n",
       "      <td>0.0</td>\n",
       "      <td>4.0</td>\n",
       "    </tr>\n",
       "    <tr>\n",
       "      <th>109445</th>\n",
       "      <td>0.973970</td>\n",
       "      <td>0.913232</td>\n",
       "      <td>0.865510</td>\n",
       "      <td>0.823210</td>\n",
       "      <td>0.746204</td>\n",
       "      <td>0.642082</td>\n",
       "      <td>0.547722</td>\n",
       "      <td>0.426247</td>\n",
       "      <td>0.325380</td>\n",
       "      <td>0.279826</td>\n",
       "      <td>...</td>\n",
       "      <td>0.0</td>\n",
       "      <td>0.0</td>\n",
       "      <td>0.0</td>\n",
       "      <td>0.0</td>\n",
       "      <td>0.0</td>\n",
       "      <td>0.0</td>\n",
       "      <td>0.0</td>\n",
       "      <td>0.0</td>\n",
       "      <td>0.0</td>\n",
       "      <td>4.0</td>\n",
       "    </tr>\n",
       "  </tbody>\n",
       "</table>\n",
       "<p>2 rows × 188 columns</p>\n",
       "</div>"
      ],
      "text/plain": [
       "             0         1         2         3         4         5         6    \\\n",
       "109444  0.984127  0.567460  0.607143  0.583333  0.607143  0.575397  0.575397   \n",
       "109445  0.973970  0.913232  0.865510  0.823210  0.746204  0.642082  0.547722   \n",
       "\n",
       "             7         8         9    ...  178  179  180  181  182  183  184  \\\n",
       "109444  0.488095  0.392857  0.238095  ...  0.0  0.0  0.0  0.0  0.0  0.0  0.0   \n",
       "109445  0.426247  0.325380  0.279826  ...  0.0  0.0  0.0  0.0  0.0  0.0  0.0   \n",
       "\n",
       "        185  186  187  \n",
       "109444  0.0  0.0  4.0  \n",
       "109445  0.0  0.0  4.0  \n",
       "\n",
       "[2 rows x 188 columns]"
      ]
     },
     "execution_count": 66,
     "metadata": {},
     "output_type": "execute_result"
    }
   ],
   "source": [
    "df.tail(2)"
   ]
  },
  {
   "cell_type": "code",
   "execution_count": 68,
   "id": "8a62fdb6",
   "metadata": {},
   "outputs": [
    {
     "data": {
      "text/plain": [
       "0.0    90589\n",
       "4.0     8039\n",
       "2.0     7236\n",
       "1.0     2779\n",
       "3.0      803\n",
       "Name: 187, dtype: int64"
      ]
     },
     "execution_count": 68,
     "metadata": {},
     "output_type": "execute_result"
    }
   ],
   "source": [
    "df[187].value_counts()"
   ]
  },
  {
   "cell_type": "code",
   "execution_count": 69,
   "id": "dd14862c",
   "metadata": {},
   "outputs": [],
   "source": [
    "# Let's convert the target values to integers\n",
    "df[187]=df[187].astype(int)"
   ]
  },
  {
   "cell_type": "code",
   "execution_count": 70,
   "id": "0e86ad85",
   "metadata": {},
   "outputs": [
    {
     "data": {
      "text/plain": [
       "0    90589\n",
       "4     8039\n",
       "2     7236\n",
       "1     2779\n",
       "3      803\n",
       "Name: 187, dtype: int64"
      ]
     },
     "execution_count": 70,
     "metadata": {},
     "output_type": "execute_result"
    }
   ],
   "source": [
    "df[187].value_counts()"
   ]
  },
  {
   "cell_type": "markdown",
   "id": "4033231d",
   "metadata": {},
   "source": [
    "### Visulaization"
   ]
  },
  {
   "cell_type": "code",
   "execution_count": 71,
   "id": "9654dc5a",
   "metadata": {},
   "outputs": [],
   "source": [
    "import random"
   ]
  },
  {
   "cell_type": "code",
   "execution_count": 72,
   "id": "ee5c6b13",
   "metadata": {},
   "outputs": [
    {
     "data": {
      "text/plain": [
       "<matplotlib.legend.Legend at 0x23a26b6b3d0>"
      ]
     },
     "execution_count": 72,
     "metadata": {},
     "output_type": "execute_result"
    },
    {
     "data": {
      "image/png": "[encoded data removed]",
      "text/plain": [
       "<Figure size 1224x360 with 2 Axes>"
      ]
     },
     "metadata": {
      "needs_background": "light"
     },
     "output_type": "display_data"
    }
   ],
   "source": [
    "plt.figure(figsize=(17,5))\n",
    "plt.subplot(121)\n",
    "test_row_1=np.array(df.iloc[np.random.randint(0,len(df))])\n",
    "plt.plot(test_row_1[:-1],label=test_row_1[-1],color='r')\n",
    "plt.legend()\n",
    "\n",
    "plt.subplot(122)\n",
    "test_row_2=np.array(df.iloc[np.random.randint(0,len(df))])\n",
    "plt.plot(test_row_2[:-1],label=test_row_2[-1])\n",
    "plt.legend()"
   ]
  },
  {
   "cell_type": "code",
   "execution_count": 73,
   "id": "1d5652e5",
   "metadata": {},
   "outputs": [
    {
     "name": "stdout",
     "output_type": "stream",
     "text": [
      "0    90589\n",
      "4     8039\n",
      "2     7236\n",
      "1     2779\n",
      "3      803\n",
      "Name: 187, dtype: int64\n"
     ]
    }
   ],
   "source": [
    "print(df[187].value_counts().sort_values(ascending=False))"
   ]
  },
  {
   "cell_type": "markdown",
   "id": "ce8e9cae",
   "metadata": {},
   "source": [
    "Normal beat ('N'): 0 Supraventricular ectopic beats ('S'): 1 Ventricular ectopic beats ('V'): 2 Fusion Beats ('F'): 3 Unknown Beats ('Q'): 4"
   ]
  },
  {
   "cell_type": "code",
   "execution_count": 74,
   "id": "55bf1e7c",
   "metadata": {},
   "outputs": [
    {
     "data": {
      "text/plain": [
       "([<matplotlib.patches.Wedge at 0x23a26c0e460>,\n",
       "  <matplotlib.patches.Wedge at 0x23a26c0ec10>,\n",
       "  <matplotlib.patches.Wedge at 0x23a26c19370>,\n",
       "  <matplotlib.patches.Wedge at 0x23a26c19a90>,\n",
       "  <matplotlib.patches.Wedge at 0x23a26c281f0>],\n",
       " [Text(-0.9427544126347679, 0.5667575473319026, 'Normal Sinus Rhythm'),\n",
       "  Text(0.7244876615439377, -0.8277183266489856, 'Supraventricular premature beat'),\n",
       "  Text(1.0073606227948213, -0.4418422519886819, '- Premature ventricular contraction'),\n",
       "  Text(1.0912977987617831, -0.13809096428690254, 'Fusion of ventricular and normal beat'),\n",
       "  Text(1.0997078011098815, -0.02535255762382736, '– Unknown Beat')],\n",
       " [Text(-0.5142296796189643, 0.30914048036285596, '82.8%'),\n",
       "  Text(0.39517508811487506, -0.4514827236267194, '7.3%'),\n",
       "  Text(0.549469430615357, -0.24100486472109917, '6.6%'),\n",
       "  Text(0.5952533447791544, -0.07532234415649228, '2.5%'),\n",
       "  Text(0.599840618787208, -0.013828667794814923, '0.7%')])"
      ]
     },
     "execution_count": 74,
     "metadata": {},
     "output_type": "execute_result"
    },
    {
     "data": {
      "image/png": "[encoded data removed]",
      "text/plain": [
       "<Figure size 720x720 with 1 Axes>"
      ]
     },
     "metadata": {},
     "output_type": "display_data"
    }
   ],
   "source": [
    "# plot number of records in each category\n",
    "plt.figure(figsize=(10,10))\n",
    "plt.pie(df[187].value_counts(), labels = [\"Normal Sinus Rhythm\",\"Supraventricular premature beat\",\"- Premature ventricular contraction\",\"Fusion of ventricular and normal beat\",\"– Unknown Beat\"],colors= ['blue','red','green','orange','purple'],autopct='%2.1f%%')"
   ]
  },
  {
   "cell_type": "markdown",
   "id": "5c348fa9",
   "metadata": {},
   "source": [
    "#### Model imbalanced dataset with Usual Logistic Classification Models"
   ]
  },
  {
   "cell_type": "code",
   "execution_count": 75,
   "id": "bc9fe169",
   "metadata": {},
   "outputs": [],
   "source": [
    "X=df.iloc[:,:-1]\n",
    "y=df.iloc[:,-1]"
   ]
  },
  {
   "cell_type": "code",
   "execution_count": 76,
   "id": "bc33829a",
   "metadata": {},
   "outputs": [],
   "source": [
    "from sklearn.model_selection import train_test_split,cross_val_score\n",
    "from sklearn.linear_model import LogisticRegression\n",
    "from sklearn.ensemble import RandomForestClassifier\n",
    "from sklearn.svm import SVC"
   ]
  },
  {
   "cell_type": "code",
   "execution_count": 77,
   "id": "ef2d587c",
   "metadata": {},
   "outputs": [],
   "source": [
    "X_train, X_test, y_train, y_test = train_test_split(X, y, test_size=0.25, random_state=28)"
   ]
  },
  {
   "cell_type": "code",
   "execution_count": 78,
   "id": "2f44ca95",
   "metadata": {},
   "outputs": [
    {
     "name": "stdout",
     "output_type": "stream",
     "text": [
      "(82084, 187)\n",
      "(82084,)\n",
      "(27362, 187)\n",
      "(27362,)\n"
     ]
    }
   ],
   "source": [
    "print(X_train.shape)\n",
    "print(y_train.shape)\n",
    "print(X_test.shape)\n",
    "print(y_test.shape)"
   ]
  },
  {
   "cell_type": "code",
   "execution_count": 79,
   "id": "4875a32a",
   "metadata": {},
   "outputs": [],
   "source": [
    "log_reg=LogisticRegression()\n",
    "rf=RandomForestClassifier()"
   ]
  },
  {
   "cell_type": "code",
   "execution_count": 80,
   "id": "aaeab1c1",
   "metadata": {},
   "outputs": [
    {
     "name": "stdout",
     "output_type": "stream",
     "text": [
      "0.9129449601637307\n",
      "\n",
      "              precision    recall  f1-score   support\n",
      "\n",
      "           0       0.92      0.99      0.95     22592\n",
      "           1       0.84      0.39      0.54       701\n",
      "           2       0.66      0.33      0.44      1789\n",
      "           3       0.60      0.20      0.30       194\n",
      "           4       0.96      0.87      0.91      2086\n",
      "\n",
      "    accuracy                           0.91     27362\n",
      "   macro avg       0.80      0.55      0.63     27362\n",
      "weighted avg       0.90      0.91      0.90     27362\n",
      "\n"
     ]
    }
   ],
   "source": [
    "log_reg.fit(X_train,y_train)\n",
    "y_pred=log_reg.predict(X_test)\n",
    "print(accuracy_score(y_test,y_pred))\n",
    "print()\n",
    "print(classification_report(y_test,y_pred))"
   ]
  },
  {
   "cell_type": "code",
   "execution_count": 81,
   "id": "c4168eec",
   "metadata": {},
   "outputs": [
    {
     "name": "stdout",
     "output_type": "stream",
     "text": [
      "0.97628097361304\n",
      "\n",
      "              precision    recall  f1-score   support\n",
      "\n",
      "           0       0.97      1.00      0.99     22592\n",
      "           1       0.98      0.64      0.77       701\n",
      "           2       0.98      0.90      0.93      1789\n",
      "           3       0.92      0.59      0.72       194\n",
      "           4       0.99      0.95      0.97      2086\n",
      "\n",
      "    accuracy                           0.98     27362\n",
      "   macro avg       0.97      0.82      0.88     27362\n",
      "weighted avg       0.98      0.98      0.97     27362\n",
      "\n"
     ]
    }
   ],
   "source": [
    "rf.fit(X_train,y_train)\n",
    "y_pred=rf.predict(X_test)\n",
    "print(accuracy_score(y_test,y_pred))\n",
    "print()\n",
    "print(classification_report(y_test,y_pred))"
   ]
  },
  {
   "cell_type": "markdown",
   "id": "54e15d8c",
   "metadata": {},
   "source": [
    "### Dealing with Imbalanced dataset"
   ]
  },
  {
   "cell_type": "code",
   "execution_count": 82,
   "id": "d6a4e9b6",
   "metadata": {},
   "outputs": [],
   "source": [
    "# SMOTE: Synthetic Minority Over-sampling Technique. used for oversampling\n",
    "\n",
    "import imblearn\n",
    "from imblearn.over_sampling import SMOTE"
   ]
  },
  {
   "cell_type": "code",
   "execution_count": 83,
   "id": "c0d28b18",
   "metadata": {},
   "outputs": [
    {
     "data": {
      "text/plain": [
       "0    67997\n",
       "4     5953\n",
       "2     5447\n",
       "1     2078\n",
       "3      609\n",
       "Name: 187, dtype: int64"
      ]
     },
     "execution_count": 83,
     "metadata": {},
     "output_type": "execute_result"
    }
   ],
   "source": [
    "y_train.value_counts()"
   ]
  },
  {
   "cell_type": "code",
   "execution_count": 84,
   "id": "3322aa01",
   "metadata": {},
   "outputs": [],
   "source": [
    "# Note : Oversampling to be done only on train data, never on test data\n",
    "smote=SMOTE()\n",
    "X_oversampled,y_oversampled=smote.fit_resample(X_train,y_train)"
   ]
  },
  {
   "cell_type": "code",
   "execution_count": 85,
   "id": "483ea3c8",
   "metadata": {},
   "outputs": [
    {
     "data": {
      "text/plain": [
       "0    67997\n",
       "4    67997\n",
       "2    67997\n",
       "1    67997\n",
       "3    67997\n",
       "Name: 187, dtype: int64"
      ]
     },
     "execution_count": 85,
     "metadata": {},
     "output_type": "execute_result"
    }
   ],
   "source": [
    "y_oversampled.value_counts()"
   ]
  },
  {
   "cell_type": "code",
   "execution_count": 92,
   "id": "6d4d4035",
   "metadata": {},
   "outputs": [
    {
     "name": "stdout",
     "output_type": "stream",
     "text": [
      "ALL Train data\n",
      "Type\tCount\n",
      "0.0    72471\n",
      "4.0     6431\n",
      "2.0     5788\n",
      "1.0     2223\n",
      "3.0      641\n",
      "Name: 187, dtype: int64\n",
      "-------------------------\n",
      "ALL Test data\n",
      "Type\tCount\n",
      "0.0    18118\n",
      "4.0     1608\n",
      "2.0     1448\n",
      "1.0      556\n",
      "3.0      162\n",
      "Name: 187, dtype: int64\n",
      "ALL Train-Test data\n",
      "Type\tCount\n",
      "0    90589\n",
      "4     8039\n",
      "2     7236\n",
      "1     2779\n",
      "3      803\n",
      "Name: 187, dtype: int64\n",
      "-------------------------\n",
      "ALL Balanced Test data\n",
      "Type\tCount\n",
      "0    67997\n",
      "4    67997\n",
      "2    67997\n",
      "1    67997\n",
      "3    67997\n",
      "Name: 187, dtype: int64\n"
     ]
    }
   ],
   "source": [
    "print(\"ALL Train data\")\n",
    "print(\"Type\\tCount\")\n",
    "print((df1[187]).value_counts())\n",
    "print(\"-------------------------\")\n",
    "print(\"ALL Test data\")\n",
    "print(\"Type\\tCount\")\n",
    "print((df2[187]).value_counts())\n",
    "\n",
    "print(\"ALL Train-Test data\")\n",
    "print(\"Type\\tCount\")\n",
    "print((df[187]).value_counts())\n",
    "print(\"-------------------------\")\n",
    "print(\"ALL Balanced Test data\")\n",
    "print(\"Type\\tCount\")\n",
    "print((y_oversampled).value_counts())"
   ]
  },
  {
   "cell_type": "markdown",
   "id": "b31b1929",
   "metadata": {},
   "source": [
    "### Model training after SMOTE"
   ]
  },
  {
   "cell_type": "code",
   "execution_count": 86,
   "id": "e45b340a",
   "metadata": {},
   "outputs": [],
   "source": [
    "log_reg_resampled=LogisticRegression()\n",
    "rf_resampled=RandomForestClassifier()"
   ]
  },
  {
   "cell_type": "code",
   "execution_count": 87,
   "id": "27bb0e05",
   "metadata": {},
   "outputs": [
    {
     "name": "stdout",
     "output_type": "stream",
     "text": [
      "0.6485637014838097\n",
      "\n",
      "              precision    recall  f1-score   support\n",
      "\n",
      "           0       0.98      0.61      0.75     22592\n",
      "           1       0.14      0.71      0.23       701\n",
      "           2       0.27      0.74      0.40      1789\n",
      "           3       0.08      0.87      0.15       194\n",
      "           4       0.72      0.92      0.81      2086\n",
      "\n",
      "    accuracy                           0.65     27362\n",
      "   macro avg       0.44      0.77      0.47     27362\n",
      "weighted avg       0.88      0.65      0.72     27362\n",
      "\n"
     ]
    }
   ],
   "source": [
    "log_reg_resampled.fit(X_oversampled,y_oversampled)\n",
    "y_pred=log_reg_resampled.predict(X_test)\n",
    "print(accuracy_score(y_test,y_pred))\n",
    "print()\n",
    "print(classification_report(y_test,y_pred))"
   ]
  },
  {
   "cell_type": "code",
   "execution_count": 88,
   "id": "f791ba29",
   "metadata": {},
   "outputs": [
    {
     "name": "stdout",
     "output_type": "stream",
     "text": [
      "0.982091952342665\n",
      "\n",
      "              precision    recall  f1-score   support\n",
      "\n",
      "           0       0.99      0.99      0.99     22592\n",
      "           1       0.88      0.80      0.84       701\n",
      "           2       0.96      0.94      0.95      1789\n",
      "           3       0.83      0.78      0.80       194\n",
      "           4       0.99      0.97      0.98      2086\n",
      "\n",
      "    accuracy                           0.98     27362\n",
      "   macro avg       0.93      0.90      0.91     27362\n",
      "weighted avg       0.98      0.98      0.98     27362\n",
      "\n"
     ]
    }
   ],
   "source": [
    "rf_resampled.fit(X_oversampled,y_oversampled)\n",
    "y_pred=rf_resampled.predict(X_test)\n",
    "print(accuracy_score(y_test,y_pred))\n",
    "print()\n",
    "print(classification_report(y_test,y_pred))"
   ]
  },
  {
   "cell_type": "markdown",
   "id": "cb18e6fe",
   "metadata": {},
   "source": [
    "### Conclusion:"
   ]
  },
  {
   "cell_type": "markdown",
   "id": "467ad377",
   "metadata": {},
   "source": [
    "Using SMOTE oversampling, the performance of Logistic Regression declined, but that of Random Forest classifier improved, specially for the minority classes."
   ]
  },
  {
   "cell_type": "markdown",
   "id": "83f6ff04",
   "metadata": {},
   "source": [
    "### Deep Learning CNN Classical Model"
   ]
  },
  {
   "cell_type": "code",
   "execution_count": 117,
   "id": "3cf0f833-cef0-49e6-b61d-642dd947af53",
   "metadata": {},
   "outputs": [],
   "source": [
    "import tensorflow as tf\n",
    "from tensorflow.keras.layers import Conv1D, MaxPooling1D, Flatten, Dense, Dropout, BatchNormalization\n",
    "from tensorflow.keras.models import Sequential\n",
    "from tensorflow.keras.callbacks import EarlyStopping, ModelCheckpoint"
   ]
  },
  {
   "cell_type": "code",
   "execution_count": 118,
   "id": "970533a6",
   "metadata": {},
   "outputs": [],
   "source": [
    "train_df = pd.read_csv('mitbih_train.csv',header=None)\n",
    "test_df = pd.read_csv('mitbih_test.csv',header=None)"
   ]
  },
  {
   "cell_type": "code",
   "execution_count": 119,
   "id": "5f0b9758",
   "metadata": {},
   "outputs": [
    {
     "data": {
      "text/html": [
       "<div>\n",
       "<style scoped>\n",
       "    .dataframe tbody tr th:only-of-type {\n",
       "        vertical-align: middle;\n",
       "    }\n",
       "\n",
       "    .dataframe tbody tr th {\n",
       "        vertical-align: top;\n",
       "    }\n",
       "\n",
       "    .dataframe thead th {\n",
       "        text-align: right;\n",
       "    }\n",
       "</style>\n",
       "<table border=\"1\" class=\"dataframe\">\n",
       "  <thead>\n",
       "    <tr style=\"text-align: right;\">\n",
       "      <th></th>\n",
       "      <th>0</th>\n",
       "      <th>1</th>\n",
       "      <th>2</th>\n",
       "      <th>3</th>\n",
       "      <th>4</th>\n",
       "      <th>5</th>\n",
       "      <th>6</th>\n",
       "      <th>7</th>\n",
       "      <th>8</th>\n",
       "      <th>9</th>\n",
       "      <th>...</th>\n",
       "      <th>178</th>\n",
       "      <th>179</th>\n",
       "      <th>180</th>\n",
       "      <th>181</th>\n",
       "      <th>182</th>\n",
       "      <th>183</th>\n",
       "      <th>184</th>\n",
       "      <th>185</th>\n",
       "      <th>186</th>\n",
       "      <th>187</th>\n",
       "    </tr>\n",
       "  </thead>\n",
       "  <tbody>\n",
       "    <tr>\n",
       "      <th>0</th>\n",
       "      <td>0.977941</td>\n",
       "      <td>0.926471</td>\n",
       "      <td>0.681373</td>\n",
       "      <td>0.245098</td>\n",
       "      <td>0.154412</td>\n",
       "      <td>0.191176</td>\n",
       "      <td>0.151961</td>\n",
       "      <td>0.085784</td>\n",
       "      <td>0.058824</td>\n",
       "      <td>0.049020</td>\n",
       "      <td>...</td>\n",
       "      <td>0.0</td>\n",
       "      <td>0.0</td>\n",
       "      <td>0.0</td>\n",
       "      <td>0.0</td>\n",
       "      <td>0.0</td>\n",
       "      <td>0.0</td>\n",
       "      <td>0.0</td>\n",
       "      <td>0.0</td>\n",
       "      <td>0.0</td>\n",
       "      <td>0.0</td>\n",
       "    </tr>\n",
       "    <tr>\n",
       "      <th>1</th>\n",
       "      <td>0.960114</td>\n",
       "      <td>0.863248</td>\n",
       "      <td>0.461538</td>\n",
       "      <td>0.196581</td>\n",
       "      <td>0.094017</td>\n",
       "      <td>0.125356</td>\n",
       "      <td>0.099715</td>\n",
       "      <td>0.088319</td>\n",
       "      <td>0.074074</td>\n",
       "      <td>0.082621</td>\n",
       "      <td>...</td>\n",
       "      <td>0.0</td>\n",
       "      <td>0.0</td>\n",
       "      <td>0.0</td>\n",
       "      <td>0.0</td>\n",
       "      <td>0.0</td>\n",
       "      <td>0.0</td>\n",
       "      <td>0.0</td>\n",
       "      <td>0.0</td>\n",
       "      <td>0.0</td>\n",
       "      <td>0.0</td>\n",
       "    </tr>\n",
       "  </tbody>\n",
       "</table>\n",
       "<p>2 rows × 188 columns</p>\n",
       "</div>"
      ],
      "text/plain": [
       "        0         1         2         3         4         5         6    \\\n",
       "0  0.977941  0.926471  0.681373  0.245098  0.154412  0.191176  0.151961   \n",
       "1  0.960114  0.863248  0.461538  0.196581  0.094017  0.125356  0.099715   \n",
       "\n",
       "        7         8         9    ...  178  179  180  181  182  183  184  185  \\\n",
       "0  0.085784  0.058824  0.049020  ...  0.0  0.0  0.0  0.0  0.0  0.0  0.0  0.0   \n",
       "1  0.088319  0.074074  0.082621  ...  0.0  0.0  0.0  0.0  0.0  0.0  0.0  0.0   \n",
       "\n",
       "   186  187  \n",
       "0  0.0  0.0  \n",
       "1  0.0  0.0  \n",
       "\n",
       "[2 rows x 188 columns]"
      ]
     },
     "execution_count": 119,
     "metadata": {},
     "output_type": "execute_result"
    }
   ],
   "source": [
    "train_df.head(2)"
   ]
  },
  {
   "cell_type": "code",
   "execution_count": 120,
   "id": "ebc86379",
   "metadata": {},
   "outputs": [
    {
     "data": {
      "text/html": [
       "<div>\n",
       "<style scoped>\n",
       "    .dataframe tbody tr th:only-of-type {\n",
       "        vertical-align: middle;\n",
       "    }\n",
       "\n",
       "    .dataframe tbody tr th {\n",
       "        vertical-align: top;\n",
       "    }\n",
       "\n",
       "    .dataframe thead th {\n",
       "        text-align: right;\n",
       "    }\n",
       "</style>\n",
       "<table border=\"1\" class=\"dataframe\">\n",
       "  <thead>\n",
       "    <tr style=\"text-align: right;\">\n",
       "      <th></th>\n",
       "      <th>0</th>\n",
       "      <th>1</th>\n",
       "      <th>2</th>\n",
       "      <th>3</th>\n",
       "      <th>4</th>\n",
       "      <th>5</th>\n",
       "      <th>6</th>\n",
       "      <th>7</th>\n",
       "      <th>8</th>\n",
       "      <th>9</th>\n",
       "      <th>...</th>\n",
       "      <th>178</th>\n",
       "      <th>179</th>\n",
       "      <th>180</th>\n",
       "      <th>181</th>\n",
       "      <th>182</th>\n",
       "      <th>183</th>\n",
       "      <th>184</th>\n",
       "      <th>185</th>\n",
       "      <th>186</th>\n",
       "      <th>187</th>\n",
       "    </tr>\n",
       "  </thead>\n",
       "  <tbody>\n",
       "    <tr>\n",
       "      <th>0</th>\n",
       "      <td>1.000000</td>\n",
       "      <td>0.758264</td>\n",
       "      <td>0.111570</td>\n",
       "      <td>0.000000</td>\n",
       "      <td>0.080579</td>\n",
       "      <td>0.078512</td>\n",
       "      <td>0.066116</td>\n",
       "      <td>0.049587</td>\n",
       "      <td>0.047521</td>\n",
       "      <td>0.035124</td>\n",
       "      <td>...</td>\n",
       "      <td>0.0</td>\n",
       "      <td>0.0</td>\n",
       "      <td>0.0</td>\n",
       "      <td>0.0</td>\n",
       "      <td>0.0</td>\n",
       "      <td>0.0</td>\n",
       "      <td>0.0</td>\n",
       "      <td>0.0</td>\n",
       "      <td>0.0</td>\n",
       "      <td>0.0</td>\n",
       "    </tr>\n",
       "    <tr>\n",
       "      <th>1</th>\n",
       "      <td>0.908425</td>\n",
       "      <td>0.783883</td>\n",
       "      <td>0.531136</td>\n",
       "      <td>0.362637</td>\n",
       "      <td>0.366300</td>\n",
       "      <td>0.344322</td>\n",
       "      <td>0.333333</td>\n",
       "      <td>0.307692</td>\n",
       "      <td>0.296703</td>\n",
       "      <td>0.300366</td>\n",
       "      <td>...</td>\n",
       "      <td>0.0</td>\n",
       "      <td>0.0</td>\n",
       "      <td>0.0</td>\n",
       "      <td>0.0</td>\n",
       "      <td>0.0</td>\n",
       "      <td>0.0</td>\n",
       "      <td>0.0</td>\n",
       "      <td>0.0</td>\n",
       "      <td>0.0</td>\n",
       "      <td>0.0</td>\n",
       "    </tr>\n",
       "  </tbody>\n",
       "</table>\n",
       "<p>2 rows × 188 columns</p>\n",
       "</div>"
      ],
      "text/plain": [
       "        0         1         2         3         4         5         6    \\\n",
       "0  1.000000  0.758264  0.111570  0.000000  0.080579  0.078512  0.066116   \n",
       "1  0.908425  0.783883  0.531136  0.362637  0.366300  0.344322  0.333333   \n",
       "\n",
       "        7         8         9    ...  178  179  180  181  182  183  184  185  \\\n",
       "0  0.049587  0.047521  0.035124  ...  0.0  0.0  0.0  0.0  0.0  0.0  0.0  0.0   \n",
       "1  0.307692  0.296703  0.300366  ...  0.0  0.0  0.0  0.0  0.0  0.0  0.0  0.0   \n",
       "\n",
       "   186  187  \n",
       "0  0.0  0.0  \n",
       "1  0.0  0.0  \n",
       "\n",
       "[2 rows x 188 columns]"
      ]
     },
     "execution_count": 120,
     "metadata": {},
     "output_type": "execute_result"
    }
   ],
   "source": [
    "test_df.head(2)"
   ]
  },
  {
   "cell_type": "code",
   "execution_count": 121,
   "id": "7f035c4f",
   "metadata": {},
   "outputs": [
    {
     "data": {
      "text/plain": [
       "array([0., 1., 2., 3., 4.])"
      ]
     },
     "execution_count": 121,
     "metadata": {},
     "output_type": "execute_result"
    }
   ],
   "source": [
    "test_df[187].unique()"
   ]
  },
  {
   "cell_type": "code",
   "execution_count": 122,
   "id": "fdf73dc8",
   "metadata": {},
   "outputs": [
    {
     "name": "stdout",
     "output_type": "stream",
     "text": [
      "0.0    72471\n",
      "4.0     6431\n",
      "2.0     5788\n",
      "1.0     2223\n",
      "3.0      641\n",
      "Name: 187, dtype: int64\n"
     ]
    }
   ],
   "source": [
    "clases = train_df[187].value_counts()\n",
    "print(clases)"
   ]
  },
  {
   "cell_type": "code",
   "execution_count": 123,
   "id": "cb746992",
   "metadata": {},
   "outputs": [
    {
     "data": {
      "image/png": "[encoded data removed]",
      "text/plain": [
       "<Figure size 540x540 with 1 Axes>"
      ]
     },
     "metadata": {},
     "output_type": "display_data"
    }
   ],
   "source": [
    "plt.figure(figsize=(7.5,7.5))\n",
    "explode = (0, 0.2, 0.2, 0.2, 0.2)\n",
    "plt.pie(clases, labels=['N','Q','V','S','F'], autopct='%1.1f%%', explode=explode)\n",
    "plt.show()"
   ]
  },
  {
   "cell_type": "code",
   "execution_count": 124,
   "id": "2295cab2",
   "metadata": {},
   "outputs": [],
   "source": [
    "df_0 = train_df[train_df[187]==0.0].sample(n=16000, random_state=1)\n",
    "df_1 = train_df[train_df[187]==1.0]\n",
    "df_2 = train_df[train_df[187]==2.0]\n",
    "df_3 = train_df[train_df[187]==3.0]\n",
    "df_4 = train_df[train_df[187]==4.0]\n",
    "# upsample\n",
    "df_1_up=resample(df_1, replace=True, n_samples=16000, random_state=1)\n",
    "df_2_up=resample(df_2, replace=True, n_samples=16000, random_state=1)\n",
    "df_3_up=resample(df_3, replace=True, n_samples=16000, random_state=1)\n",
    "df_4_up=resample(df_4, replace=True, n_samples=16000, random_state=1)\n",
    "\n",
    "train_df = pd.concat([df_0, df_1_up, df_2_up, df_3_up, df_4_up])"
   ]
  },
  {
   "cell_type": "code",
   "execution_count": 125,
   "id": "965146e7",
   "metadata": {},
   "outputs": [
    {
     "data": {
      "text/html": [
       "<div>\n",
       "<style scoped>\n",
       "    .dataframe tbody tr th:only-of-type {\n",
       "        vertical-align: middle;\n",
       "    }\n",
       "\n",
       "    .dataframe tbody tr th {\n",
       "        vertical-align: top;\n",
       "    }\n",
       "\n",
       "    .dataframe thead th {\n",
       "        text-align: right;\n",
       "    }\n",
       "</style>\n",
       "<table border=\"1\" class=\"dataframe\">\n",
       "  <thead>\n",
       "    <tr style=\"text-align: right;\">\n",
       "      <th></th>\n",
       "      <th>0</th>\n",
       "      <th>1</th>\n",
       "      <th>2</th>\n",
       "      <th>3</th>\n",
       "      <th>4</th>\n",
       "      <th>5</th>\n",
       "      <th>6</th>\n",
       "      <th>7</th>\n",
       "      <th>8</th>\n",
       "      <th>9</th>\n",
       "      <th>...</th>\n",
       "      <th>178</th>\n",
       "      <th>179</th>\n",
       "      <th>180</th>\n",
       "      <th>181</th>\n",
       "      <th>182</th>\n",
       "      <th>183</th>\n",
       "      <th>184</th>\n",
       "      <th>185</th>\n",
       "      <th>186</th>\n",
       "      <th>187</th>\n",
       "    </tr>\n",
       "  </thead>\n",
       "  <tbody>\n",
       "    <tr>\n",
       "      <th>65728</th>\n",
       "      <td>1.000000</td>\n",
       "      <td>0.918864</td>\n",
       "      <td>0.567951</td>\n",
       "      <td>0.243408</td>\n",
       "      <td>0.279919</td>\n",
       "      <td>0.310345</td>\n",
       "      <td>0.283976</td>\n",
       "      <td>0.283976</td>\n",
       "      <td>0.277890</td>\n",
       "      <td>0.267748</td>\n",
       "      <td>...</td>\n",
       "      <td>0.0</td>\n",
       "      <td>0.0</td>\n",
       "      <td>0.0</td>\n",
       "      <td>0.0</td>\n",
       "      <td>0.0</td>\n",
       "      <td>0.0</td>\n",
       "      <td>0.0</td>\n",
       "      <td>0.0</td>\n",
       "      <td>0.0</td>\n",
       "      <td>0.0</td>\n",
       "    </tr>\n",
       "    <tr>\n",
       "      <th>33224</th>\n",
       "      <td>0.199288</td>\n",
       "      <td>0.074733</td>\n",
       "      <td>0.270463</td>\n",
       "      <td>0.427046</td>\n",
       "      <td>0.551601</td>\n",
       "      <td>0.569395</td>\n",
       "      <td>0.558719</td>\n",
       "      <td>0.565836</td>\n",
       "      <td>0.594306</td>\n",
       "      <td>0.597865</td>\n",
       "      <td>...</td>\n",
       "      <td>0.0</td>\n",
       "      <td>0.0</td>\n",
       "      <td>0.0</td>\n",
       "      <td>0.0</td>\n",
       "      <td>0.0</td>\n",
       "      <td>0.0</td>\n",
       "      <td>0.0</td>\n",
       "      <td>0.0</td>\n",
       "      <td>0.0</td>\n",
       "      <td>0.0</td>\n",
       "    </tr>\n",
       "    <tr>\n",
       "      <th>46733</th>\n",
       "      <td>1.000000</td>\n",
       "      <td>0.929448</td>\n",
       "      <td>0.328221</td>\n",
       "      <td>0.070552</td>\n",
       "      <td>0.205521</td>\n",
       "      <td>0.294479</td>\n",
       "      <td>0.309816</td>\n",
       "      <td>0.319018</td>\n",
       "      <td>0.322086</td>\n",
       "      <td>0.346626</td>\n",
       "      <td>...</td>\n",
       "      <td>0.0</td>\n",
       "      <td>0.0</td>\n",
       "      <td>0.0</td>\n",
       "      <td>0.0</td>\n",
       "      <td>0.0</td>\n",
       "      <td>0.0</td>\n",
       "      <td>0.0</td>\n",
       "      <td>0.0</td>\n",
       "      <td>0.0</td>\n",
       "      <td>0.0</td>\n",
       "    </tr>\n",
       "    <tr>\n",
       "      <th>49665</th>\n",
       "      <td>0.000000</td>\n",
       "      <td>0.059006</td>\n",
       "      <td>0.236025</td>\n",
       "      <td>0.347826</td>\n",
       "      <td>0.434783</td>\n",
       "      <td>0.431677</td>\n",
       "      <td>0.422360</td>\n",
       "      <td>0.437888</td>\n",
       "      <td>0.456522</td>\n",
       "      <td>0.453416</td>\n",
       "      <td>...</td>\n",
       "      <td>0.0</td>\n",
       "      <td>0.0</td>\n",
       "      <td>0.0</td>\n",
       "      <td>0.0</td>\n",
       "      <td>0.0</td>\n",
       "      <td>0.0</td>\n",
       "      <td>0.0</td>\n",
       "      <td>0.0</td>\n",
       "      <td>0.0</td>\n",
       "      <td>0.0</td>\n",
       "    </tr>\n",
       "    <tr>\n",
       "      <th>30911</th>\n",
       "      <td>0.975659</td>\n",
       "      <td>0.872211</td>\n",
       "      <td>0.531440</td>\n",
       "      <td>0.255578</td>\n",
       "      <td>0.184584</td>\n",
       "      <td>0.162272</td>\n",
       "      <td>0.109533</td>\n",
       "      <td>0.113590</td>\n",
       "      <td>0.113590</td>\n",
       "      <td>0.107505</td>\n",
       "      <td>...</td>\n",
       "      <td>0.0</td>\n",
       "      <td>0.0</td>\n",
       "      <td>0.0</td>\n",
       "      <td>0.0</td>\n",
       "      <td>0.0</td>\n",
       "      <td>0.0</td>\n",
       "      <td>0.0</td>\n",
       "      <td>0.0</td>\n",
       "      <td>0.0</td>\n",
       "      <td>0.0</td>\n",
       "    </tr>\n",
       "    <tr>\n",
       "      <th>...</th>\n",
       "      <td>...</td>\n",
       "      <td>...</td>\n",
       "      <td>...</td>\n",
       "      <td>...</td>\n",
       "      <td>...</td>\n",
       "      <td>...</td>\n",
       "      <td>...</td>\n",
       "      <td>...</td>\n",
       "      <td>...</td>\n",
       "      <td>...</td>\n",
       "      <td>...</td>\n",
       "      <td>...</td>\n",
       "      <td>...</td>\n",
       "      <td>...</td>\n",
       "      <td>...</td>\n",
       "      <td>...</td>\n",
       "      <td>...</td>\n",
       "      <td>...</td>\n",
       "      <td>...</td>\n",
       "      <td>...</td>\n",
       "      <td>...</td>\n",
       "    </tr>\n",
       "    <tr>\n",
       "      <th>85165</th>\n",
       "      <td>1.000000</td>\n",
       "      <td>0.567164</td>\n",
       "      <td>0.570895</td>\n",
       "      <td>0.585821</td>\n",
       "      <td>0.585821</td>\n",
       "      <td>0.563433</td>\n",
       "      <td>0.574627</td>\n",
       "      <td>0.522388</td>\n",
       "      <td>0.402985</td>\n",
       "      <td>0.298507</td>\n",
       "      <td>...</td>\n",
       "      <td>0.0</td>\n",
       "      <td>0.0</td>\n",
       "      <td>0.0</td>\n",
       "      <td>0.0</td>\n",
       "      <td>0.0</td>\n",
       "      <td>0.0</td>\n",
       "      <td>0.0</td>\n",
       "      <td>0.0</td>\n",
       "      <td>0.0</td>\n",
       "      <td>4.0</td>\n",
       "    </tr>\n",
       "    <tr>\n",
       "      <th>86756</th>\n",
       "      <td>0.664697</td>\n",
       "      <td>0.589365</td>\n",
       "      <td>0.483013</td>\n",
       "      <td>0.392910</td>\n",
       "      <td>0.273264</td>\n",
       "      <td>0.162482</td>\n",
       "      <td>0.087149</td>\n",
       "      <td>0.031019</td>\n",
       "      <td>0.000000</td>\n",
       "      <td>0.026588</td>\n",
       "      <td>...</td>\n",
       "      <td>0.0</td>\n",
       "      <td>0.0</td>\n",
       "      <td>0.0</td>\n",
       "      <td>0.0</td>\n",
       "      <td>0.0</td>\n",
       "      <td>0.0</td>\n",
       "      <td>0.0</td>\n",
       "      <td>0.0</td>\n",
       "      <td>0.0</td>\n",
       "      <td>4.0</td>\n",
       "    </tr>\n",
       "    <tr>\n",
       "      <th>83845</th>\n",
       "      <td>0.945148</td>\n",
       "      <td>0.518987</td>\n",
       "      <td>0.556962</td>\n",
       "      <td>0.556962</td>\n",
       "      <td>0.544304</td>\n",
       "      <td>0.510549</td>\n",
       "      <td>0.527426</td>\n",
       "      <td>0.459916</td>\n",
       "      <td>0.337553</td>\n",
       "      <td>0.206751</td>\n",
       "      <td>...</td>\n",
       "      <td>0.0</td>\n",
       "      <td>0.0</td>\n",
       "      <td>0.0</td>\n",
       "      <td>0.0</td>\n",
       "      <td>0.0</td>\n",
       "      <td>0.0</td>\n",
       "      <td>0.0</td>\n",
       "      <td>0.0</td>\n",
       "      <td>0.0</td>\n",
       "      <td>4.0</td>\n",
       "    </tr>\n",
       "    <tr>\n",
       "      <th>83949</th>\n",
       "      <td>1.000000</td>\n",
       "      <td>0.505618</td>\n",
       "      <td>0.535581</td>\n",
       "      <td>0.520599</td>\n",
       "      <td>0.528090</td>\n",
       "      <td>0.524345</td>\n",
       "      <td>0.531835</td>\n",
       "      <td>0.479401</td>\n",
       "      <td>0.404494</td>\n",
       "      <td>0.303371</td>\n",
       "      <td>...</td>\n",
       "      <td>0.0</td>\n",
       "      <td>0.0</td>\n",
       "      <td>0.0</td>\n",
       "      <td>0.0</td>\n",
       "      <td>0.0</td>\n",
       "      <td>0.0</td>\n",
       "      <td>0.0</td>\n",
       "      <td>0.0</td>\n",
       "      <td>0.0</td>\n",
       "      <td>4.0</td>\n",
       "    </tr>\n",
       "    <tr>\n",
       "      <th>85673</th>\n",
       "      <td>0.722689</td>\n",
       "      <td>0.509804</td>\n",
       "      <td>0.470588</td>\n",
       "      <td>0.462185</td>\n",
       "      <td>0.445378</td>\n",
       "      <td>0.431373</td>\n",
       "      <td>0.411765</td>\n",
       "      <td>0.386555</td>\n",
       "      <td>0.341737</td>\n",
       "      <td>0.271709</td>\n",
       "      <td>...</td>\n",
       "      <td>0.0</td>\n",
       "      <td>0.0</td>\n",
       "      <td>0.0</td>\n",
       "      <td>0.0</td>\n",
       "      <td>0.0</td>\n",
       "      <td>0.0</td>\n",
       "      <td>0.0</td>\n",
       "      <td>0.0</td>\n",
       "      <td>0.0</td>\n",
       "      <td>4.0</td>\n",
       "    </tr>\n",
       "  </tbody>\n",
       "</table>\n",
       "<p>80000 rows × 188 columns</p>\n",
       "</div>"
      ],
      "text/plain": [
       "            0         1         2         3         4         5         6    \\\n",
       "65728  1.000000  0.918864  0.567951  0.243408  0.279919  0.310345  0.283976   \n",
       "33224  0.199288  0.074733  0.270463  0.427046  0.551601  0.569395  0.558719   \n",
       "46733  1.000000  0.929448  0.328221  0.070552  0.205521  0.294479  0.309816   \n",
       "49665  0.000000  0.059006  0.236025  0.347826  0.434783  0.431677  0.422360   \n",
       "30911  0.975659  0.872211  0.531440  0.255578  0.184584  0.162272  0.109533   \n",
       "...         ...       ...       ...       ...       ...       ...       ...   \n",
       "85165  1.000000  0.567164  0.570895  0.585821  0.585821  0.563433  0.574627   \n",
       "86756  0.664697  0.589365  0.483013  0.392910  0.273264  0.162482  0.087149   \n",
       "83845  0.945148  0.518987  0.556962  0.556962  0.544304  0.510549  0.527426   \n",
       "83949  1.000000  0.505618  0.535581  0.520599  0.528090  0.524345  0.531835   \n",
       "85673  0.722689  0.509804  0.470588  0.462185  0.445378  0.431373  0.411765   \n",
       "\n",
       "            7         8         9    ...  178  179  180  181  182  183  184  \\\n",
       "65728  0.283976  0.277890  0.267748  ...  0.0  0.0  0.0  0.0  0.0  0.0  0.0   \n",
       "33224  0.565836  0.594306  0.597865  ...  0.0  0.0  0.0  0.0  0.0  0.0  0.0   \n",
       "46733  0.319018  0.322086  0.346626  ...  0.0  0.0  0.0  0.0  0.0  0.0  0.0   \n",
       "49665  0.437888  0.456522  0.453416  ...  0.0  0.0  0.0  0.0  0.0  0.0  0.0   \n",
       "30911  0.113590  0.113590  0.107505  ...  0.0  0.0  0.0  0.0  0.0  0.0  0.0   \n",
       "...         ...       ...       ...  ...  ...  ...  ...  ...  ...  ...  ...   \n",
       "85165  0.522388  0.402985  0.298507  ...  0.0  0.0  0.0  0.0  0.0  0.0  0.0   \n",
       "86756  0.031019  0.000000  0.026588  ...  0.0  0.0  0.0  0.0  0.0  0.0  0.0   \n",
       "83845  0.459916  0.337553  0.206751  ...  0.0  0.0  0.0  0.0  0.0  0.0  0.0   \n",
       "83949  0.479401  0.404494  0.303371  ...  0.0  0.0  0.0  0.0  0.0  0.0  0.0   \n",
       "85673  0.386555  0.341737  0.271709  ...  0.0  0.0  0.0  0.0  0.0  0.0  0.0   \n",
       "\n",
       "       185  186  187  \n",
       "65728  0.0  0.0  0.0  \n",
       "33224  0.0  0.0  0.0  \n",
       "46733  0.0  0.0  0.0  \n",
       "49665  0.0  0.0  0.0  \n",
       "30911  0.0  0.0  0.0  \n",
       "...    ...  ...  ...  \n",
       "85165  0.0  0.0  4.0  \n",
       "86756  0.0  0.0  4.0  \n",
       "83845  0.0  0.0  4.0  \n",
       "83949  0.0  0.0  4.0  \n",
       "85673  0.0  0.0  4.0  \n",
       "\n",
       "[80000 rows x 188 columns]"
      ]
     },
     "execution_count": 125,
     "metadata": {},
     "output_type": "execute_result"
    }
   ],
   "source": [
    "train_df"
   ]
  },
  {
   "cell_type": "code",
   "execution_count": 126,
   "id": "755caa2f",
   "metadata": {},
   "outputs": [
    {
     "name": "stdout",
     "output_type": "stream",
     "text": [
      "0.0    16000\n",
      "1.0    16000\n",
      "2.0    16000\n",
      "3.0    16000\n",
      "4.0    16000\n",
      "Name: 187, dtype: int64\n"
     ]
    }
   ],
   "source": [
    "clases = train_df[187].value_counts()\n",
    "print(clases)"
   ]
  },
  {
   "cell_type": "code",
   "execution_count": 127,
   "id": "d7a9ca60",
   "metadata": {},
   "outputs": [
    {
     "data": {
      "image/png": "[encoded data removed]",
      "text/plain": [
       "<Figure size 540x540 with 1 Axes>"
      ]
     },
     "metadata": {},
     "output_type": "display_data"
    }
   ],
   "source": [
    "plt.figure(figsize=(7.5,7.5))\n",
    "plt.pie(clases, labels=['N','Q','V','S','F'], autopct='%1.1f%%')\n",
    "plt.show()"
   ]
  },
  {
   "cell_type": "code",
   "execution_count": 128,
   "id": "406d0493",
   "metadata": {},
   "outputs": [
    {
     "data": {
      "text/plain": [
       "Text(0.5, 1.0, 'Unknown beats')"
      ]
     },
     "execution_count": 128,
     "metadata": {},
     "output_type": "execute_result"
    },
    {
     "data": {
      "image/png": "[encoded data removed]",
      "text/plain": [
       "<Figure size 720x720 with 5 Axes>"
      ]
     },
     "metadata": {
      "needs_background": "light"
     },
     "output_type": "display_data"
    }
   ],
   "source": [
    "sample_n=df_0.sample(1)\n",
    "sample_s=df_1.sample(1)\n",
    "sample_v=df_2.sample(1)\n",
    "sample_f=df_3.sample(1)\n",
    "sample_q=df_4.sample(1)\n",
    "\n",
    "fig, ax = plt.subplots(5, sharex=True, sharey=True)\n",
    "fig.set_size_inches(10,10)\n",
    "ax[0].plot(sample_n.iloc[0,:186])\n",
    "ax[0].set_title(\"Non-ecotic beats\")\n",
    "ax[1].plot(sample_s.iloc[0,:186])\n",
    "ax[1].set_title(\"Supraventricular ectopic beats\")\n",
    "ax[2].plot(sample_v.iloc[0,:186])\n",
    "ax[2].set_title(\"Ventricular ectopic beats\")\n",
    "ax[3].plot(sample_f.iloc[0,:186])\n",
    "ax[3].set_title(\"Fusion beats\")\n",
    "ax[4].plot(sample_q.iloc[0,:186])\n",
    "ax[4].set_title(\"Unknown beats\")"
   ]
  },
  {
   "cell_type": "code",
   "execution_count": 129,
   "id": "579ac946",
   "metadata": {},
   "outputs": [],
   "source": [
    "from keras.utils.np_utils import to_categorical\n",
    "y_train = to_categorical(train_df[187])\n",
    "y_test = to_categorical(test_df[187])\n",
    "\n",
    "x_train = train_df.iloc[:,:186].values\n",
    "x_test = test_df.iloc[:,:186].values\n",
    "x_train = x_train.reshape(len(x_train), x_train.shape[1],1)\n",
    "x_test = x_test.reshape(len(x_test), x_test.shape[1],1)"
   ]
  },
  {
   "cell_type": "code",
   "execution_count": 130,
   "id": "5146efe6-8cec-4190-ba4b-4bf81de2af44",
   "metadata": {},
   "outputs": [],
   "source": [
    "cnn = Sequential()\n",
    "cnn.add(Conv1D(128,3,input_shape=(x_train.shape[1],1), activation='relu'))\n",
    "cnn.add(BatchNormalization())\n",
    "cnn.add(MaxPooling1D(pool_size=2))\n",
    "cnn.add(Conv1D(64,3, activation='relu'))\n",
    "cnn.add(BatchNormalization())\n",
    "cnn.add(MaxPooling1D(pool_size=2))\n",
    "cnn.add(Conv1D(64,2, activation='relu'))\n",
    "cnn.add(BatchNormalization())\n",
    "cnn.add(MaxPooling1D(pool_size=2))\n",
    "cnn.add(Conv1D(64,2, activation='relu'))\n",
    "cnn.add(Flatten())\n",
    "cnn.add(Dense(128, activation='relu'))\n",
    "cnn.add(Dropout(0.5))\n",
    "cnn.add(Dense(64, activation='relu'))\n",
    "cnn.add(Dense(5, activation='softmax'))"
   ]
  },
  {
   "cell_type": "code",
   "execution_count": 131,
   "id": "949ec413",
   "metadata": {},
   "outputs": [
    {
     "name": "stdout",
     "output_type": "stream",
     "text": [
      "Model: \"sequential_2\"\n",
      "_________________________________________________________________\n",
      " Layer (type)                Output Shape              Param #   \n",
      "=================================================================\n",
      " conv1d_8 (Conv1D)           (None, 184, 128)          512       \n",
      "                                                                 \n",
      " batch_normalization_6 (Batc  (None, 184, 128)         512       \n",
      " hNormalization)                                                 \n",
      "                                                                 \n",
      " max_pooling1d_6 (MaxPooling  (None, 92, 128)          0         \n",
      " 1D)                                                             \n",
      "                                                                 \n",
      " conv1d_9 (Conv1D)           (None, 90, 64)            24640     \n",
      "                                                                 \n",
      " batch_normalization_7 (Batc  (None, 90, 64)           256       \n",
      " hNormalization)                                                 \n",
      "                                                                 \n",
      " max_pooling1d_7 (MaxPooling  (None, 45, 64)           0         \n",
      " 1D)                                                             \n",
      "                                                                 \n",
      " conv1d_10 (Conv1D)          (None, 44, 64)            8256      \n",
      "                                                                 \n",
      " batch_normalization_8 (Batc  (None, 44, 64)           256       \n",
      " hNormalization)                                                 \n",
      "                                                                 \n",
      " max_pooling1d_8 (MaxPooling  (None, 22, 64)           0         \n",
      " 1D)                                                             \n",
      "                                                                 \n",
      " conv1d_11 (Conv1D)          (None, 21, 64)            8256      \n",
      "                                                                 \n",
      " flatten_2 (Flatten)         (None, 1344)              0         \n",
      "                                                                 \n",
      " dense_6 (Dense)             (None, 128)               172160    \n",
      "                                                                 \n",
      " dropout_2 (Dropout)         (None, 128)               0         \n",
      "                                                                 \n",
      " dense_7 (Dense)             (None, 64)                8256      \n",
      "                                                                 \n",
      " dense_8 (Dense)             (None, 5)                 325       \n",
      "                                                                 \n",
      "=================================================================\n",
      "Total params: 223,429\n",
      "Trainable params: 222,917\n",
      "Non-trainable params: 512\n",
      "_________________________________________________________________\n"
     ]
    }
   ],
   "source": [
    "cnn.compile(loss='categorical_crossentropy',optimizer='adam',metrics=['accuracy'])\n",
    "callbacks = [EarlyStopping(monitor='val_loss', patience=8), ModelCheckpoint(filepath='./best_weights.h5', monitor='val_loss', save_best_only=True)]\n",
    "cnn.summary()"
   ]
  },
  {
   "cell_type": "code",
   "execution_count": 132,
   "id": "5ea1a79c",
   "metadata": {},
   "outputs": [],
   "source": [
    "from keras.utils.np_utils import to_categorical\n",
    "from sklearn.utils import class_weight, resample\n",
    "y_train = to_categorical(train_df[187])\n",
    "y_test = to_categorical(test_df[187])\n",
    "\n",
    "x_train = train_df.iloc[:,:186].values\n",
    "x_test = test_df.iloc[:,:186].values\n",
    "x_train = x_train.reshape(len(x_train), x_train.shape[1],1)\n",
    "x_test = x_test.reshape(len(x_test), x_test.shape[1],1)"
   ]
  },
  {
   "cell_type": "code",
   "execution_count": 134,
   "id": "87e7f106",
   "metadata": {},
   "outputs": [
    {
     "name": "stdout",
     "output_type": "stream",
     "text": [
      "Epoch 1/100\n",
      "10000/10000 [==============================] - 492s 49ms/step - loss: 0.0548 - accuracy: 0.9812 - val_loss: 0.1273 - val_accuracy: 0.9612\n",
      "Epoch 2/100\n",
      "10000/10000 [==============================] - 486s 49ms/step - loss: 0.0383 - accuracy: 0.9871 - val_loss: 0.1436 - val_accuracy: 0.9644\n",
      "Epoch 3/100\n",
      "10000/10000 [==============================] - 498s 50ms/step - loss: 0.0296 - accuracy: 0.9903 - val_loss: 0.1314 - val_accuracy: 0.9715\n",
      "Epoch 4/100\n",
      "10000/10000 [==============================] - 503s 50ms/step - loss: 0.0254 - accuracy: 0.9918 - val_loss: 0.1239 - val_accuracy: 0.9781\n",
      "Epoch 5/100\n",
      "10000/10000 [==============================] - 501s 50ms/step - loss: 0.0218 - accuracy: 0.9931 - val_loss: 0.1213 - val_accuracy: 0.9773\n",
      "Epoch 6/100\n",
      "10000/10000 [==============================] - 521s 52ms/step - loss: 0.0191 - accuracy: 0.9939 - val_loss: 0.1448 - val_accuracy: 0.9746\n",
      "Epoch 7/100\n",
      "10000/10000 [==============================] - 529s 53ms/step - loss: 0.0169 - accuracy: 0.9947 - val_loss: 0.1547 - val_accuracy: 0.9744\n",
      "Epoch 8/100\n",
      "10000/10000 [==============================] - 520s 52ms/step - loss: 0.0155 - accuracy: 0.9953 - val_loss: 0.1573 - val_accuracy: 0.9755\n",
      "Epoch 9/100\n",
      "10000/10000 [==============================] - 592s 59ms/step - loss: 0.0149 - accuracy: 0.9954 - val_loss: 0.1348 - val_accuracy: 0.9807\n",
      "Epoch 10/100\n",
      "10000/10000 [==============================] - 494s 49ms/step - loss: 0.0134 - accuracy: 0.9960 - val_loss: 0.1606 - val_accuracy: 0.9756\n",
      "Epoch 11/100\n",
      "10000/10000 [==============================] - 515s 51ms/step - loss: 0.0131 - accuracy: 0.9962 - val_loss: 0.1849 - val_accuracy: 0.9734\n",
      "Epoch 12/100\n",
      "10000/10000 [==============================] - 527s 53ms/step - loss: 0.0124 - accuracy: 0.9963 - val_loss: 0.1482 - val_accuracy: 0.9794\n",
      "Epoch 13/100\n",
      "10000/10000 [==============================] - 512s 51ms/step - loss: 0.0115 - accuracy: 0.9967 - val_loss: 0.2019 - val_accuracy: 0.9733\n"
     ]
    },
    {
     "data": {
      "text/plain": [
       "<keras.callbacks.History at 0x23a420c6eb0>"
      ]
     },
     "execution_count": 134,
     "metadata": {},
     "output_type": "execute_result"
    }
   ],
   "source": [
    "cnn.fit(x_train, y_train,steps_per_epoch=10000, epochs=100, callbacks=callbacks, batch_size=32, validation_data=(x_test,y_test))"
   ]
  },
  {
   "cell_type": "code",
   "execution_count": 135,
   "id": "77dff259",
   "metadata": {},
   "outputs": [
    {
     "name": "stdout",
     "output_type": "stream",
     "text": [
      "685/685 [==============================] - 8s 12ms/step - loss: 0.2019 - accuracy: 0.9733\n"
     ]
    }
   ],
   "source": [
    "scores = cnn.evaluate(x_test,y_test, verbose=1)\n",
    "y_predict = cnn.predict(x_test)"
   ]
  },
  {
   "cell_type": "code",
   "execution_count": 136,
   "id": "7eec5c84",
   "metadata": {},
   "outputs": [],
   "source": [
    "import itertools\n",
    "def plot_confusion_matrix(cm, classes,\n",
    "                          normalize=False,\n",
    "                          title='Confusion matrix',\n",
    "                          cmap=plt.cm.Blues):\n",
    "    \"\"\"\n",
    "    This function prints and plots the confusion matrix.\n",
    "    Normalization can be applied by setting `normalize=True`.\n",
    "    \"\"\"\n",
    "    if normalize:\n",
    "        cm = cm.astype('float') / cm.sum(axis=1)[:, np.newaxis]\n",
    "        print(\"Normalized confusion matrix\")\n",
    "    else:\n",
    "        print('Confusion matrix, without normalization')\n",
    "\n",
    "    plt.imshow(cm, interpolation='nearest', cmap=cmap)\n",
    "    plt.title(title)\n",
    "    plt.colorbar()\n",
    "    tick_marks = np.arange(len(classes))\n",
    "    plt.xticks(tick_marks, classes, rotation=45)\n",
    "    plt.yticks(tick_marks, classes)\n",
    "\n",
    "    fmt = '.2f' if normalize else 'd'\n",
    "    thresh = cm.max() / 2.\n",
    "    for i, j in itertools.product(range(cm.shape[0]), range(cm.shape[1])):\n",
    "        plt.text(j, i, format(cm[i, j], fmt),\n",
    "                 horizontalalignment=\"center\",\n",
    "                 color=\"white\" if cm[i, j] > thresh else \"black\")\n",
    "\n",
    "    plt.tight_layout()\n",
    "    plt.ylabel('True label')\n",
    "    plt.xlabel('Predicted label')"
   ]
  },
  {
   "cell_type": "code",
   "execution_count": 137,
   "id": "a6a47691",
   "metadata": {},
   "outputs": [
    {
     "data": {
      "text/plain": [
       "<matplotlib.image.AxesImage at 0x23a420c63a0>"
      ]
     },
     "execution_count": 137,
     "metadata": {},
     "output_type": "execute_result"
    },
    {
     "data": {
      "image/png": "[encoded data removed]",
      "text/plain": [
       "<Figure size 720x288 with 1 Axes>"
      ]
     },
     "metadata": {
      "needs_background": "light"
     },
     "output_type": "display_data"
    }
   ],
   "source": [
    "from sklearn.metrics import confusion_matrix\n",
    "cf_matrix = confusion_matrix(y_test.argmax(axis=1),y_predict.argmax(axis=1))\n",
    "plt.imshow(cf_matrix)"
   ]
  },
  {
   "cell_type": "code",
   "execution_count": 138,
   "id": "9530695d",
   "metadata": {},
   "outputs": [
    {
     "name": "stdout",
     "output_type": "stream",
     "text": [
      "Normalized confusion matrix\n"
     ]
    },
    {
     "data": {
      "image/png": "[encoded data removed]",
      "text/plain": [
       "<Figure size 720x720 with 2 Axes>"
      ]
     },
     "metadata": {
      "needs_background": "light"
     },
     "output_type": "display_data"
    }
   ],
   "source": [
    "plt.figure(figsize=(10, 10))\n",
    "plot_confusion_matrix(cf_matrix, classes=['N', 'S', 'V', 'F', 'Q'],normalize=True,title='Confusion matrix, with normalization')\n",
    "plt.show()"
   ]
  },
  {
   "cell_type": "code",
   "execution_count": 139,
   "id": "22d82edd",
   "metadata": {},
   "outputs": [],
   "source": [
    "cnn.save('./ecg_model2.h5')\n",
    "cnn.save_weights('./ecg_weights2.h5')"
   ]
  },
  {
   "cell_type": "code",
   "execution_count": 140,
   "id": "5f255b74",
   "metadata": {},
   "outputs": [
    {
     "data": {
      "image/png": "[encoded data removed]",
      "text/plain": [
       "<Figure size 720x288 with 1 Axes>"
      ]
     },
     "metadata": {
      "needs_background": "light"
     },
     "output_type": "display_data"
    }
   ],
   "source": [
    "plt.plot(train_df.iloc[0,:186])\n",
    "plt.show()"
   ]
  },
  {
   "cell_type": "markdown",
   "id": "6225ba0e",
   "metadata": {},
   "source": [
    "### Transfer Learning"
   ]
  },
  {
   "cell_type": "code",
   "execution_count": 141,
   "id": "52c10a0c",
   "metadata": {},
   "outputs": [
    {
     "name": "stdout",
     "output_type": "stream",
     "text": [
      "Model: \"sequential_2\"\n",
      "_________________________________________________________________\n",
      " Layer (type)                Output Shape              Param #   \n",
      "=================================================================\n",
      " conv1d_8 (Conv1D)           (None, 184, 128)          512       \n",
      "                                                                 \n",
      " batch_normalization_6 (Batc  (None, 184, 128)         512       \n",
      " hNormalization)                                                 \n",
      "                                                                 \n",
      " max_pooling1d_6 (MaxPooling  (None, 92, 128)          0         \n",
      " 1D)                                                             \n",
      "                                                                 \n",
      " conv1d_9 (Conv1D)           (None, 90, 64)            24640     \n",
      "                                                                 \n",
      " batch_normalization_7 (Batc  (None, 90, 64)           256       \n",
      " hNormalization)                                                 \n",
      "                                                                 \n",
      " max_pooling1d_7 (MaxPooling  (None, 45, 64)           0         \n",
      " 1D)                                                             \n",
      "                                                                 \n",
      " conv1d_10 (Conv1D)          (None, 44, 64)            8256      \n",
      "                                                                 \n",
      " batch_normalization_8 (Batc  (None, 44, 64)           256       \n",
      " hNormalization)                                                 \n",
      "                                                                 \n",
      " max_pooling1d_8 (MaxPooling  (None, 22, 64)           0         \n",
      " 1D)                                                             \n",
      "                                                                 \n",
      " conv1d_11 (Conv1D)          (None, 21, 64)            8256      \n",
      "                                                                 \n",
      " flatten_2 (Flatten)         (None, 1344)              0         \n",
      "                                                                 \n",
      " dense_6 (Dense)             (None, 128)               172160    \n",
      "                                                                 \n",
      " dropout_2 (Dropout)         (None, 128)               0         \n",
      "                                                                 \n",
      " dense_7 (Dense)             (None, 64)                8256      \n",
      "                                                                 \n",
      " dense_8 (Dense)             (None, 5)                 325       \n",
      "                                                                 \n",
      "=================================================================\n",
      "Total params: 223,429\n",
      "Trainable params: 222,917\n",
      "Non-trainable params: 512\n",
      "_________________________________________________________________\n"
     ]
    }
   ],
   "source": [
    "from keras.models import load_model\n",
    "cnn_transfer = load_model('./ecg_model2.h5')\n",
    "cnn_transfer.load_weights('./ecg_weights2.h5')\n",
    "cnn_transfer.summary()"
   ]
  },
  {
   "cell_type": "code",
   "execution_count": 142,
   "id": "87e6618b",
   "metadata": {},
   "outputs": [
    {
     "name": "stdout",
     "output_type": "stream",
     "text": [
      "Model: \"sequential_2\"\n",
      "_________________________________________________________________\n",
      " Layer (type)                Output Shape              Param #   \n",
      "=================================================================\n",
      " conv1d_8 (Conv1D)           (None, 184, 128)          512       \n",
      "                                                                 \n",
      " batch_normalization_6 (Batc  (None, 184, 128)         512       \n",
      " hNormalization)                                                 \n",
      "                                                                 \n",
      " max_pooling1d_6 (MaxPooling  (None, 92, 128)          0         \n",
      " 1D)                                                             \n",
      "                                                                 \n",
      " conv1d_9 (Conv1D)           (None, 90, 64)            24640     \n",
      "                                                                 \n",
      " batch_normalization_7 (Batc  (None, 90, 64)           256       \n",
      " hNormalization)                                                 \n",
      "                                                                 \n",
      " max_pooling1d_7 (MaxPooling  (None, 45, 64)           0         \n",
      " 1D)                                                             \n",
      "                                                                 \n",
      " conv1d_10 (Conv1D)          (None, 44, 64)            8256      \n",
      "                                                                 \n",
      " batch_normalization_8 (Batc  (None, 44, 64)           256       \n",
      " hNormalization)                                                 \n",
      "                                                                 \n",
      " max_pooling1d_8 (MaxPooling  (None, 22, 64)           0         \n",
      " 1D)                                                             \n",
      "                                                                 \n",
      " conv1d_11 (Conv1D)          (None, 21, 64)            8256      \n",
      "                                                                 \n",
      " flatten_2 (Flatten)         (None, 1344)              0         \n",
      "                                                                 \n",
      " dense_6 (Dense)             (None, 128)               172160    \n",
      "                                                                 \n",
      " dropout_2 (Dropout)         (None, 128)               0         \n",
      "                                                                 \n",
      " dense_7 (Dense)             (None, 64)                8256      \n",
      "                                                                 \n",
      "=================================================================\n",
      "Total params: 223,104\n",
      "Trainable params: 0\n",
      "Non-trainable params: 223,104\n",
      "_________________________________________________________________\n"
     ]
    }
   ],
   "source": [
    "cnn_transfer.trainable = False\n",
    "cnn_transfer.pop()\n",
    "cnn_transfer.summary()"
   ]
  },
  {
   "cell_type": "code",
   "execution_count": 143,
   "id": "3e558a86",
   "metadata": {},
   "outputs": [
    {
     "name": "stdout",
     "output_type": "stream",
     "text": [
      "Model: \"sequential_3\"\n",
      "_________________________________________________________________\n",
      " Layer (type)                Output Shape              Param #   \n",
      "=================================================================\n",
      " sequential_2 (Sequential)   (None, 64)                223104    \n",
      "                                                                 \n",
      " dense_9 (Dense)             (None, 64)                4160      \n",
      "                                                                 \n",
      " dropout_3 (Dropout)         (None, 64)                0         \n",
      "                                                                 \n",
      " dense_10 (Dense)            (None, 5)                 325       \n",
      "                                                                 \n",
      "=================================================================\n",
      "Total params: 227,589\n",
      "Trainable params: 4,485\n",
      "Non-trainable params: 223,104\n",
      "_________________________________________________________________\n"
     ]
    }
   ],
   "source": [
    "cnn2 = Sequential()\n",
    "cnn2.add(cnn_transfer)\n",
    "cnn2.add(Dense(64, activation='relu'))\n",
    "cnn2.add(Dropout(0.25))\n",
    "cnn2.add(Dense(5, activation='softmax'))\n",
    "cnn2.summary()"
   ]
  },
  {
   "cell_type": "code",
   "execution_count": 144,
   "id": "0671fec4",
   "metadata": {},
   "outputs": [],
   "source": [
    "cnn2.compile(loss='categorical_crossentropy',optimizer='adam',metrics=['accuracy'])\n",
    "callbacks2 = [EarlyStopping(monitor='val_loss', patience=8), ModelCheckpoint(filepath='./best_noise_weights.h5', monitor='val_loss', save_best_only=True)]"
   ]
  },
  {
   "cell_type": "code",
   "execution_count": 145,
   "id": "ef8d64f0",
   "metadata": {},
   "outputs": [
    {
     "name": "stdout",
     "output_type": "stream",
     "text": [
      "Epoch 1/100\n",
      "10000/10000 [==============================] - 127s 13ms/step - loss: 0.0581 - accuracy: 0.9931 - val_loss: 0.1900 - val_accuracy: 0.9757\n",
      "Epoch 2/100\n",
      "10000/10000 [==============================] - 131s 13ms/step - loss: 0.0125 - accuracy: 0.9963 - val_loss: 0.1832 - val_accuracy: 0.9745\n",
      "Epoch 3/100\n",
      "10000/10000 [==============================] - 123s 12ms/step - loss: 0.0129 - accuracy: 0.9962 - val_loss: 0.1690 - val_accuracy: 0.9757\n",
      "Epoch 4/100\n",
      "10000/10000 [==============================] - 132s 13ms/step - loss: 0.0122 - accuracy: 0.9965 - val_loss: 0.1687 - val_accuracy: 0.9753\n",
      "Epoch 5/100\n",
      "10000/10000 [==============================] - 134s 13ms/step - loss: 0.0127 - accuracy: 0.9965 - val_loss: 0.1781 - val_accuracy: 0.9770\n",
      "Epoch 6/100\n",
      "10000/10000 [==============================] - 136s 14ms/step - loss: 0.0123 - accuracy: 0.9965 - val_loss: 0.1934 - val_accuracy: 0.9754\n",
      "Epoch 7/100\n",
      "10000/10000 [==============================] - 137s 14ms/step - loss: 0.0118 - accuracy: 0.9966 - val_loss: 0.1761 - val_accuracy: 0.9764\n",
      "Epoch 8/100\n",
      "10000/10000 [==============================] - 153s 15ms/step - loss: 0.0120 - accuracy: 0.9966 - val_loss: 0.1894 - val_accuracy: 0.9765\n",
      "Epoch 9/100\n",
      "10000/10000 [==============================] - 146s 15ms/step - loss: 0.0125 - accuracy: 0.9965 - val_loss: 0.1826 - val_accuracy: 0.9763\n",
      "Epoch 10/100\n",
      "10000/10000 [==============================] - 144s 14ms/step - loss: 0.0123 - accuracy: 0.9967 - val_loss: 0.2000 - val_accuracy: 0.9756\n",
      "Epoch 11/100\n",
      "10000/10000 [==============================] - 144s 14ms/step - loss: 0.0120 - accuracy: 0.9966 - val_loss: 0.1941 - val_accuracy: 0.9753\n",
      "Epoch 12/100\n",
      "10000/10000 [==============================] - 151s 15ms/step - loss: 0.0132 - accuracy: 0.9965 - val_loss: 0.1797 - val_accuracy: 0.9765\n"
     ]
    },
    {
     "data": {
      "text/plain": [
       "<keras.callbacks.History at 0x23a42368220>"
      ]
     },
     "execution_count": 145,
     "metadata": {},
     "output_type": "execute_result"
    }
   ],
   "source": [
    "cnn2.fit(x_train, y_train,steps_per_epoch=10000, epochs=100, callbacks=callbacks2, batch_size=32, validation_data=(x_test,y_test))"
   ]
  },
  {
   "cell_type": "code",
   "execution_count": null,
   "id": "c48d47a7",
   "metadata": {},
   "outputs": [],
   "source": []
  },
  {
   "cell_type": "markdown",
   "id": "6b2c3d88",
   "metadata": {},
   "source": [
    "### Evaluate Model"
   ]
  },
  {
   "cell_type": "markdown",
   "id": "69a6aa3c",
   "metadata": {},
   "source": [
    "mse, acc = model.evaluate(testX, testy) print('mean_squared_error :', mse) print('accuracy:', acc)"
   ]
  },
  {
   "cell_type": "code",
   "execution_count": 151,
   "id": "9419d297",
   "metadata": {},
   "outputs": [
    {
     "name": "stdout",
     "output_type": "stream",
     "text": [
      "--- X ---\n",
      "            0         1         2         3         4         5         6    \\\n",
      "65728  1.000000  0.918864  0.567951  0.243408  0.279919  0.310345  0.283976   \n",
      "33224  0.199288  0.074733  0.270463  0.427046  0.551601  0.569395  0.558719   \n",
      "46733  1.000000  0.929448  0.328221  0.070552  0.205521  0.294479  0.309816   \n",
      "49665  0.000000  0.059006  0.236025  0.347826  0.434783  0.431677  0.422360   \n",
      "30911  0.975659  0.872211  0.531440  0.255578  0.184584  0.162272  0.109533   \n",
      "\n",
      "            7         8         9    ...  177  178  179  180  181  182  183  \\\n",
      "65728  0.283976  0.277890  0.267748  ...  0.0  0.0  0.0  0.0  0.0  0.0  0.0   \n",
      "33224  0.565836  0.594306  0.597865  ...  0.0  0.0  0.0  0.0  0.0  0.0  0.0   \n",
      "46733  0.319018  0.322086  0.346626  ...  0.0  0.0  0.0  0.0  0.0  0.0  0.0   \n",
      "49665  0.437888  0.456522  0.453416  ...  0.0  0.0  0.0  0.0  0.0  0.0  0.0   \n",
      "30911  0.113590  0.113590  0.107505  ...  0.0  0.0  0.0  0.0  0.0  0.0  0.0   \n",
      "\n",
      "       184  185  186  \n",
      "65728  0.0  0.0  0.0  \n",
      "33224  0.0  0.0  0.0  \n",
      "46733  0.0  0.0  0.0  \n",
      "49665  0.0  0.0  0.0  \n",
      "30911  0.0  0.0  0.0  \n",
      "\n",
      "[5 rows x 187 columns]\n",
      "<class 'pandas.core.frame.DataFrame'>\n",
      "Int64Index: 80000 entries, 65728 to 85673\n",
      "Columns: 187 entries, 0 to 186\n",
      "dtypes: float64(187)\n",
      "memory usage: 114.7 MB\n",
      "None\n",
      "--- Y ---\n",
      "--- testX ---\n",
      "        0         1         2         3         4         5         6    \\\n",
      "0  1.000000  0.758264  0.111570  0.000000  0.080579  0.078512  0.066116   \n",
      "1  0.908425  0.783883  0.531136  0.362637  0.366300  0.344322  0.333333   \n",
      "2  0.730088  0.212389  0.000000  0.119469  0.101770  0.101770  0.110619   \n",
      "3  1.000000  0.910417  0.681250  0.472917  0.229167  0.068750  0.000000   \n",
      "4  0.570470  0.399329  0.238255  0.147651  0.000000  0.003356  0.040268   \n",
      "\n",
      "        7         8         9    ...  177  178  179  180  181  182  183  184  \\\n",
      "0  0.049587  0.047521  0.035124  ...  0.0  0.0  0.0  0.0  0.0  0.0  0.0  0.0   \n",
      "1  0.307692  0.296703  0.300366  ...  0.0  0.0  0.0  0.0  0.0  0.0  0.0  0.0   \n",
      "2  0.123894  0.115044  0.132743  ...  0.0  0.0  0.0  0.0  0.0  0.0  0.0  0.0   \n",
      "3  0.004167  0.014583  0.054167  ...  0.0  0.0  0.0  0.0  0.0  0.0  0.0  0.0   \n",
      "4  0.080537  0.070470  0.090604  ...  0.0  0.0  0.0  0.0  0.0  0.0  0.0  0.0   \n",
      "\n",
      "   185  186  \n",
      "0  0.0  0.0  \n",
      "1  0.0  0.0  \n",
      "2  0.0  0.0  \n",
      "3  0.0  0.0  \n",
      "4  0.0  0.0  \n",
      "\n",
      "[5 rows x 187 columns]\n",
      "<class 'pandas.core.frame.DataFrame'>\n",
      "RangeIndex: 21892 entries, 0 to 21891\n",
      "Columns: 187 entries, 0 to 186\n",
      "dtypes: float64(187)\n",
      "memory usage: 31.2 MB\n",
      "None\n",
      "--- testy ---\n"
     ]
    }
   ],
   "source": [
    "from tensorflow.keras.utils import to_categorical\n",
    "\n",
    "print(\"--- X ---\")\n",
    "# X = mit_train_data.loc[:, mit_train_data.columns != 187]\n",
    "X = train_df.loc[:,train_df.columns != 187]\n",
    "print(X.head())\n",
    "print(X.info())\n",
    "\n",
    "print(\"--- Y ---\")\n",
    "# y = mit_train_data.loc[:, mit_train_data.columns == 187]\n",
    "y = train_df.loc[:,train_df.columns == 187]\n",
    "y = to_categorical(y)\n",
    "\n",
    "print(\"--- testX ---\")\n",
    "#testX = mit_test_data.loc[:, mit_test_data.columns != 187]\n",
    "testX = test_df.loc[:,test_df.columns != 187]\n",
    "print(testX.head())\n",
    "print(testX.info())\n",
    "\n",
    "print(\"--- testy ---\")\n",
    "#testy = mit_test_data.loc[:, mit_test_data.columns == 187]\n",
    "testy = test_df.loc[:, test_df.columns == 187]\n",
    "testy = to_categorical(testy)"
   ]
  },
  {
   "cell_type": "code",
   "execution_count": 152,
   "id": "6d436f66",
   "metadata": {},
   "outputs": [
    {
     "name": "stdout",
     "output_type": "stream",
     "text": [
      "Epoch 1/10\n",
      "2500/2500 [==============================] - 5s 2ms/step - loss: 0.5145 - accuracy: 0.8124\n",
      "Epoch 2/10\n",
      "2500/2500 [==============================] - 4s 2ms/step - loss: 0.3229 - accuracy: 0.8824\n",
      "Epoch 3/10\n",
      "2500/2500 [==============================] - 4s 2ms/step - loss: 0.2587 - accuracy: 0.9056\n",
      "Epoch 4/10\n",
      "2500/2500 [==============================] - 4s 2ms/step - loss: 0.2190 - accuracy: 0.9223\n",
      "Epoch 5/10\n",
      "2500/2500 [==============================] - 4s 2ms/step - loss: 0.1901 - accuracy: 0.9343\n",
      "Epoch 6/10\n",
      "2500/2500 [==============================] - 4s 2ms/step - loss: 0.1704 - accuracy: 0.9410\n",
      "Epoch 7/10\n",
      "2500/2500 [==============================] - 4s 2ms/step - loss: 0.1532 - accuracy: 0.9465\n",
      "Epoch 8/10\n",
      "2500/2500 [==============================] - 4s 2ms/step - loss: 0.1411 - accuracy: 0.9513\n",
      "Epoch 9/10\n",
      "2500/2500 [==============================] - 4s 2ms/step - loss: 0.1315 - accuracy: 0.9545\n",
      "Epoch 10/10\n",
      "2500/2500 [==============================] - 4s 2ms/step - loss: 0.1213 - accuracy: 0.9592\n",
      "Evaluation: \n",
      "685/685 [==============================] - 1s 1ms/step - loss: 0.3047 - accuracy: 0.8930\n",
      "mean_squared_error : 0.30472299456596375\n",
      "accuracy: 0.8929746150970459\n"
     ]
    }
   ],
   "source": [
    "# create the model.\n",
    "from keras.callbacks import History \n",
    "history = History()\n",
    "embedding_vecor_length = 187\n",
    "\n",
    "model = Sequential()\n",
    "\n",
    "model.add(Dense(50, activation='relu', input_shape=(187,)))\n",
    "model.add(Dense(50, activation='relu'))\n",
    "model.add(Dense(5, activation='softmax'))\n",
    "\n",
    "model.compile(optimizer='adam',\n",
    "              loss='categorical_crossentropy',\n",
    "              metrics=['accuracy'])\n",
    "\n",
    "history=model.fit(X, y, epochs=10)\n",
    "\n",
    "print(\"Evaluation: \")\n",
    "mse, acc = model.evaluate(testX, testy)\n",
    "print('mean_squared_error :', mse)\n",
    "print('accuracy:', acc)"
   ]
  },
  {
   "cell_type": "code",
   "execution_count": 153,
   "id": "bf3a8cc5",
   "metadata": {},
   "outputs": [
    {
     "name": "stdout",
     "output_type": "stream",
     "text": [
      "dict_keys(['loss', 'accuracy'])\n"
     ]
    },
    {
     "data": {
      "image/png": "[encoded data removed]",
      "text/plain": [
       "<Figure size 720x288 with 1 Axes>"
      ]
     },
     "metadata": {
      "needs_background": "light"
     },
     "output_type": "display_data"
    },
    {
     "data": {
      "image/png": "[encoded data removed]",
      "text/plain": [
       "<Figure size 720x288 with 1 Axes>"
      ]
     },
     "metadata": {
      "needs_background": "light"
     },
     "output_type": "display_data"
    }
   ],
   "source": [
    "# list all data in history\n",
    "print(history.history.keys())\n",
    "# summarize history for accuracy\n",
    "plt.plot(history.history['accuracy'])\n",
    "plt.title('model accuracy')\n",
    "plt.ylabel('accuracy')\n",
    "plt.xlabel('epoch')\n",
    "plt.legend(['train', 'test'], loc='upper left')\n",
    "plt.show()\n",
    "# summarize history for loss\n",
    "plt.plot(history.history['loss'])\n",
    "\n",
    "plt.title('model loss')\n",
    "plt.ylabel('loss')\n",
    "plt.xlabel('epoch')\n",
    "plt.legend(['train', 'test'], loc='upper left')\n",
    "plt.show()"
   ]
  },
  {
   "cell_type": "markdown",
   "id": "d2606176",
   "metadata": {},
   "source": [
    "### Αccuracy and prediction scores"
   ]
  },
  {
   "cell_type": "code",
   "execution_count": 154,
   "id": "4f6b28e6",
   "metadata": {},
   "outputs": [
    {
     "name": "stdout",
     "output_type": "stream",
     "text": [
      "              precision    recall  f1-score   support\n",
      "\n",
      "           0       0.99      0.88      0.94     18118\n",
      "           1       0.27      0.85      0.41       556\n",
      "           2       0.77      0.93      0.85      1448\n",
      "           3       0.27      0.91      0.42       162\n",
      "           4       0.91      0.98      0.94      1608\n",
      "\n",
      "    accuracy                           0.89     21892\n",
      "   macro avg       0.64      0.91      0.71     21892\n",
      "weighted avg       0.95      0.89      0.91     21892\n",
      "\n"
     ]
    }
   ],
   "source": [
    "y_pred = model.predict(testX, batch_size=1000)\n",
    "\n",
    "from sklearn.metrics import accuracy_score, classification_report, confusion_matrix, label_ranking_average_precision_score, label_ranking_loss, coverage_error \n",
    "\n",
    "print(classification_report(y_test.argmax(axis=1), y_pred.argmax(axis=1)))"
   ]
  },
  {
   "cell_type": "markdown",
   "id": "81b5209a",
   "metadata": {},
   "source": [
    "## Interpretation: "
   ]
  },
  {
   "cell_type": "markdown",
   "id": "6437ba00",
   "metadata": {},
   "source": [
    "1. By performing classical ML model on given DataSet, I have performed PCA analysis for feature extraction. PCA allows to compress our data and\n",
    "reduce the number of dimensions with PCA i could achieve 41 relevant features to proceed further with classical Decision Tree classification.\n",
    "this approach enabled to achieve 83% accuracy on a DataSet.\n",
    "\n",
    "\n",
    "2. Based on the further EDA i could identify class imbalance in the target categorical data with repect to feature samples please refer the Count plot for this.\n",
    "so this may require upsampling or downsampling to synthesize the data.\n",
    "\n",
    "\n",
    "3. I performed SMOTE(synthetic minority oversampling technique)Using SMOTE oversampling, the performance of Logistic \n",
    "Regression declined, however Random Forest classifier improved with the acuuracy of 98% specially for the minority classes.\n",
    "so the conclusion here is with the test data the data set was showing the chances of overfitting. Hence as part of improving the model i went with the CNN Deep learning neural network.\n",
    "\n",
    "\n",
    "4. The chances of overfitting is very less due to Fully connected neural network of Deep learning CNN model \n",
    "where the accuracy is 89% \n"
   ]
  },
  {
   "cell_type": "markdown",
   "id": "2fe4cbfa",
   "metadata": {},
   "source": [
    "## Refernces-"
   ]
  },
  {
   "cell_type": "markdown",
   "id": "e77f391d",
   "metadata": {},
   "source": [
    "1. https://www.researchgate.net/publication/280462158_Classification_of_ECG_signals_using_machine_learning_techniques_A_survey\n",
    "2. https://www.cinc.org/archives/2020/pdf/CinC2020-227.pdf    "
   ]
  }
 ],
 "metadata": {
  "kernelspec": {
   "display_name": "Python 3 (ipykernel)",
   "language": "python",
   "name": "python3"
  },
  "language_info": {
   "codemirror_mode": {
    "name": "ipython",
    "version": 3
   },
   "file_extension": ".py",
   "mimetype": "text/x-python",
   "name": "python",
   "nbconvert_exporter": "python",
   "pygments_lexer": "ipython3",
   "version": "3.9.7"
  }
 },
 "nbformat": 4,
 "nbformat_minor": 5
}
